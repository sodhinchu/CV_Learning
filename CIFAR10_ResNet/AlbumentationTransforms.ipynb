{
 "cells": [
  {
   "cell_type": "code",
   "execution_count": 16,
   "metadata": {},
   "outputs": [],
   "source": [
    "import albumentations as AL\n",
    "import albumentations.pytorch as AT\n",
    "import numpy as np"
   ]
  },
  {
   "cell_type": "code",
   "execution_count": 14,
   "metadata": {},
   "outputs": [],
   "source": [
    "def getAlbumentationTransform():\n",
    "    transform = AL.Compose({\n",
    "        #AL.Resize(200, 300),\n",
    "        #AL.CenterCrop(100, 100),\n",
    "        #AL.RandomCrop(32, 32),\n",
    "        #AL.HorizontalFlip(p=0.5),\n",
    "        #AL.Rotate(limit=(-90, 90)),\n",
    "        #AL.VerticalFlip(p=0.5),\n",
    "        AL.Normalize((0.4914, 0.4822, 0.4465), (0.2470,  0.2435,  0.2616))\n",
    "        })\n",
    "    return transform"
   ]
  },
  {
   "cell_type": "code",
   "execution_count": null,
   "metadata": {},
   "outputs": [],
   "source": [
    "'''\n",
    "AL.Resize(200, 300),\n",
    "        AL.CenterCrop(100, 100),\n",
    "        AL.RandomCrop(80, 80),\n",
    "        AL.HorizontalFlip(p=0.5),\n",
    "        AL.Rotate(limit=(-90, 90)),\n",
    "        AL.VerticalFlip(p=0.5),\n",
    "        AL.Normalize((0.5, 0.5, 0.5), (0.5, 0.5, 0.5)),\n",
    "\n",
    "'''"
   ]
  },
  {
   "cell_type": "code",
   "execution_count": 17,
   "metadata": {},
   "outputs": [],
   "source": [
    "class AlbumentationTransform:\n",
    "    def __init__(self, transforms_list=[]):    \n",
    "        self.aug = AL.Compose(transforms_list)\n",
    "        \n",
    "    def __call__(self,img):\n",
    "        img = np.array(img)\n",
    "        img = self.aug(image = img)['image']\n",
    "        return img"
   ]
  },
  {
   "cell_type": "code",
   "execution_count": null,
   "metadata": {},
   "outputs": [],
   "source": []
  }
 ],
 "metadata": {
  "kernelspec": {
   "display_name": "Python 3",
   "language": "python",
   "name": "python3"
  },
  "language_info": {
   "codemirror_mode": {
    "name": "ipython",
    "version": 3
   },
   "file_extension": ".py",
   "mimetype": "text/x-python",
   "name": "python",
   "nbconvert_exporter": "python",
   "pygments_lexer": "ipython3",
   "version": "3.6.8"
  }
 },
 "nbformat": 4,
 "nbformat_minor": 2
}
