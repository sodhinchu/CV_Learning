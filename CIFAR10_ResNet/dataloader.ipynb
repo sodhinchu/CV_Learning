{
 "cells": [
  {
   "cell_type": "code",
   "execution_count": 1,
   "metadata": {},
   "outputs": [],
   "source": [
    "import torch\n",
    "from torch.utils.data import DataLoader\n",
    "from torchvision import datasets, transforms"
   ]
  },
  {
   "cell_type": "code",
   "execution_count": 2,
   "metadata": {},
   "outputs": [],
   "source": [
    "def MNISTDataloader(num_workers=1, batch_size=32, saveTo='../data', train_transform=None, test_transform=None):\n",
    "    if(train_transform == None):\n",
    "        train_transform=transforms.Compose([\n",
    "                    transforms.ToTensor(),\n",
    "                    transforms.Normalize((0.1307,), (0.3081,))\n",
    "                ])\n",
    "\n",
    "    if(test_transform == None):\n",
    "        test_transform=transforms.Compose([\n",
    "                    transforms.ToTensor(),\n",
    "                    transforms.Normalize((0.1307,), (0.3081,))\n",
    "                ])         \n",
    "\n",
    "    trainData = datasets.MNIST(saveTo, transform=train_transform, train=True, download=True)\n",
    "    testData = datasets.MNIST(saveTo, transform=test_transform, train=False)  \n",
    "    trainDL = DataLoader(trainData, shuffle = True, num_workers = num_workers, batch_size = batch_size)\n",
    "    testDL = DataLoader(testData, shuffle = True, num_workers = num_workers, batch_size = batch_size)\n",
    "    return trainDL, testDL"
   ]
  },
  {
   "cell_type": "code",
   "execution_count": 3,
   "metadata": {},
   "outputs": [],
   "source": [
    "def CIFAR10Dataloader(num_workers=1, batch_size=4, saveTo='../data', train_transform=None, test_transform=None):\n",
    "    if(train_transform == None):\n",
    "        train_transform=transforms.Compose([\n",
    "                    transforms.ToTensor(),\n",
    "                    transforms.Normalize((0.4914, 0.4822, 0.4465), (0.2470,  0.2435,  0.2616))\n",
    "                ])\n",
    "    if(test_transform==None):\n",
    "        test_transform=transforms.Compose([\n",
    "                    transforms.ToTensor(),\n",
    "                    transforms.Normalize((0.4914, 0.4822, 0.4465), (0.2470,  0.2435,  0.2616))\n",
    "                ])     \n",
    "    trainData = datasets.CIFAR10(saveTo, transform=train_transform, train=True, download=True)\n",
    "    testData = datasets.CIFAR10(saveTo, transform=test_transform, train=False)  \n",
    "    trainDL = DataLoader(trainData, shuffle = True, num_workers = num_workers, batch_size = batch_size)\n",
    "    testDL = DataLoader(testData, shuffle = True, num_workers = num_workers, batch_size = batch_size)\n",
    "    return trainDL, testDL"
   ]
  },
  {
   "cell_type": "code",
   "execution_count": 4,
   "metadata": {},
   "outputs": [],
   "source": [
    "def getDataLoader(dataset, batch_size=4, train_transform=None, test_transform=None):\n",
    "    if(dataset == 'CIFAR10'):\n",
    "        return CIFAR10Dataloader(batch_size=batch_size, train_transform=train_transform, test_transform=test_transform)\n",
    "    elif(dataset == 'MNIST'):\n",
    "        return MNISTDataloader(batch_size=batch_size, train_transform=train_transform, test_transform=test_transform)"
   ]
  },
  {
   "cell_type": "code",
   "execution_count": null,
   "metadata": {},
   "outputs": [],
   "source": []
  }
 ],
 "metadata": {
  "kernelspec": {
   "display_name": "Python 3",
   "language": "python",
   "name": "python3"
  },
  "language_info": {
   "codemirror_mode": {
    "name": "ipython",
    "version": 3
   },
   "file_extension": ".py",
   "mimetype": "text/x-python",
   "name": "python",
   "nbconvert_exporter": "python",
   "pygments_lexer": "ipython3",
   "version": "3.6.8"
  }
 },
 "nbformat": 4,
 "nbformat_minor": 2
}
