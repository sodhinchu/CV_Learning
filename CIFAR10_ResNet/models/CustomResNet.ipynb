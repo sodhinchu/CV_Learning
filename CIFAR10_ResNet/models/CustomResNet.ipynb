{
 "cells": [
  {
   "cell_type": "code",
   "execution_count": 4,
   "metadata": {},
   "outputs": [],
   "source": [
    "import torch\n",
    "import torch.nn as nn\n",
    "import torch.nn.functional as F"
   ]
  },
  {
   "cell_type": "markdown",
   "metadata": {},
   "source": [
    "uses this new ResNet Architecture for Cifar10:\n",
    "\n",
    "    PrepLayer - Conv 3x3 s1, p1) >> BN >> RELU [64k]\n",
    "    Layer1 -\n",
    "        X = Conv 3x3 (s1, p1) >> MaxPool2D >> BN >> RELU [128k]\n",
    "        R1 = ResBlock( (Conv-BN-ReLU-Conv-BN-ReLU))(X) [128k] \n",
    "        Add(X, R1)\n",
    "    Layer 2 -\n",
    "        Conv 3x3 [256k]\n",
    "        MaxPooling2D\n",
    "        BN\n",
    "        ReLU\n",
    "    Layer 3 -\n",
    "        X = Conv 3x3 (s1, p1) >> MaxPool2D >> BN >> RELU [512k]\n",
    "        R2 = ResBlock( (Conv-BN-ReLU-Conv-BN-ReLU))(X) [512k]\n",
    "        Add(X, R2)\n",
    "    MaxPooling with Kernel Size 4\n",
    "    FC Layer \n",
    "    SoftMax\n"
   ]
  },
  {
   "cell_type": "code",
   "execution_count": 5,
   "metadata": {},
   "outputs": [],
   "source": [
    "class CustomResNet(nn.Module):\n",
    "    def __init__(self):    \n",
    "        super(CustomResNet, self).__init__()\n",
    "        # PrepLayer\n",
    "        self.preplayer = nn.Sequential(\n",
    "            nn.Conv2d(in_channels=3, out_channels=64, kernel_size=(3, 3), padding=1, bias=False),\n",
    "            nn.BatchNorm2d(64),\n",
    "            nn.ReLU()\n",
    "        ) # output_size = 32 ((32-3+2*1/1)+1)\n",
    "        self.layer1_x = nn.Sequential(\n",
    "            nn.Conv2d(in_channels=64, out_channels=128, kernel_size=(3, 3), padding=1, bias=False),\n",
    "            nn.MaxPool2d(2,2),\n",
    "            nn.BatchNorm2d(128),\n",
    "            nn.ReLU()\n",
    "        )# output_size = 16\n",
    "\n",
    "        self.r1 = self._res_block(128, 128, 1) # output_size = 32\n",
    "\n",
    "        self.layer2 = nn.Sequential(\n",
    "            nn.Conv2d(in_channels=128, out_channels=256, kernel_size=(3, 3), padding=1, bias=False),\n",
    "            nn.MaxPool2d(2,2),\n",
    "            nn.BatchNorm2d(256),\n",
    "            nn.ReLU()\n",
    "        )# output_size = 8\n",
    "\n",
    "        self.layer3_x = nn.Sequential(\n",
    "            nn.Conv2d(in_channels=256, out_channels=512, kernel_size=(3, 3), padding=1, bias=False),\n",
    "            nn.MaxPool2d(2,2),\n",
    "            nn.BatchNorm2d(512),\n",
    "            nn.ReLU()\n",
    "        )# output_size = 4    \n",
    "\n",
    "        self.r2 = self._res_block(512, 512, 1) # output_size = 4   \n",
    "\n",
    "        self.pool = nn.MaxPool2d(4,4) # output_size = 1\n",
    "        self.fc = nn.Linear(512,10)\n",
    "\n",
    "\n",
    "    def _res_block(self, in_channels, out_channels, padding):\n",
    "        layers = []\n",
    "        layers.append(nn.Conv2d(in_channels, out_channels, kernel_size=3, padding=padding, bias=False))\n",
    "        layers.append(nn.BatchNorm2d(out_channels))\n",
    "        layers.append(nn.ReLU())\n",
    "        layers.append(nn.Conv2d(in_channels, out_channels, kernel_size=3, padding=padding, bias=False))\n",
    "        layers.append(nn.BatchNorm2d(out_channels))\n",
    "        layers.append(nn.ReLU())        \n",
    "        return nn.Sequential(*layers)\n",
    "    \n",
    "    def forward(self, x):\n",
    "        x = self.preplayer(x)\n",
    "        x = self.layer1_x(x)\n",
    "        r1 = self.r1(x)\n",
    "        x = torch.add(x, r1)\n",
    "        x = self.layer2(x)\n",
    "        x = self.layer3_x(x)\n",
    "        r2 = self.r2(x)\n",
    "        x = torch.add(x, r2)\n",
    "        x = self.pool(x)\n",
    "        x = x.view(x.size(0), -1)\n",
    "        x = self.fc(x)\n",
    "        x = x.view(-1, 10)\n",
    "        return F.log_softmax(x, dim=-1)    "
   ]
  },
  {
   "cell_type": "code",
   "execution_count": null,
   "metadata": {},
   "outputs": [],
   "source": []
  }
 ],
 "metadata": {
  "kernelspec": {
   "display_name": "Python 3",
   "language": "python",
   "name": "python3"
  },
  "language_info": {
   "codemirror_mode": {
    "name": "ipython",
    "version": 3
   },
   "file_extension": ".py",
   "mimetype": "text/x-python",
   "name": "python",
   "nbconvert_exporter": "python",
   "pygments_lexer": "ipython3",
   "version": "3.6.8"
  }
 },
 "nbformat": 4,
 "nbformat_minor": 2
}
