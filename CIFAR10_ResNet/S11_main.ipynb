{
  "nbformat": 4,
  "nbformat_minor": 0,
  "metadata": {
    "kernelspec": {
      "display_name": "Python 3",
      "language": "python",
      "name": "python3"
    },
    "language_info": {
      "codemirror_mode": {
        "name": "ipython",
        "version": 3
      },
      "file_extension": ".py",
      "mimetype": "text/x-python",
      "name": "python",
      "nbconvert_exporter": "python",
      "pygments_lexer": "ipython3",
      "version": "3.6.8"
    },
    "colab": {
      "name": "S11_main.ipynb",
      "provenance": [],
      "collapsed_sections": [],
      "include_colab_link": true
    },
    "accelerator": "GPU",
    "widgets": {
      "application/vnd.jupyter.widget-state+json": {
        "5616479d8afb4d91895299037988d256": {
          "model_module": "@jupyter-widgets/controls",
          "model_name": "HBoxModel",
          "state": {
            "_view_name": "HBoxView",
            "_dom_classes": [],
            "_model_name": "HBoxModel",
            "_view_module": "@jupyter-widgets/controls",
            "_model_module_version": "1.5.0",
            "_view_count": null,
            "_view_module_version": "1.5.0",
            "box_style": "",
            "layout": "IPY_MODEL_05f3ddd56fcb42b8a93917303560d8d9",
            "_model_module": "@jupyter-widgets/controls",
            "children": [
              "IPY_MODEL_6ccd1724e5744b51a119ca0e3852bb60",
              "IPY_MODEL_9782b8a748e240bf852daecf5b8d7eec"
            ]
          }
        },
        "05f3ddd56fcb42b8a93917303560d8d9": {
          "model_module": "@jupyter-widgets/base",
          "model_name": "LayoutModel",
          "state": {
            "_view_name": "LayoutView",
            "grid_template_rows": null,
            "right": null,
            "justify_content": null,
            "_view_module": "@jupyter-widgets/base",
            "overflow": null,
            "_model_module_version": "1.2.0",
            "_view_count": null,
            "flex_flow": null,
            "width": null,
            "min_width": null,
            "border": null,
            "align_items": null,
            "bottom": null,
            "_model_module": "@jupyter-widgets/base",
            "top": null,
            "grid_column": null,
            "overflow_y": null,
            "overflow_x": null,
            "grid_auto_flow": null,
            "grid_area": null,
            "grid_template_columns": null,
            "flex": null,
            "_model_name": "LayoutModel",
            "justify_items": null,
            "grid_row": null,
            "max_height": null,
            "align_content": null,
            "visibility": null,
            "align_self": null,
            "height": null,
            "min_height": null,
            "padding": null,
            "grid_auto_rows": null,
            "grid_gap": null,
            "max_width": null,
            "order": null,
            "_view_module_version": "1.2.0",
            "grid_template_areas": null,
            "object_position": null,
            "object_fit": null,
            "grid_auto_columns": null,
            "margin": null,
            "display": null,
            "left": null
          }
        },
        "6ccd1724e5744b51a119ca0e3852bb60": {
          "model_module": "@jupyter-widgets/controls",
          "model_name": "FloatProgressModel",
          "state": {
            "_view_name": "ProgressView",
            "style": "IPY_MODEL_873acb039a1844deb80c2f9f3c2a4d93",
            "_dom_classes": [],
            "description": "",
            "_model_name": "FloatProgressModel",
            "bar_style": "info",
            "max": 1,
            "_view_module": "@jupyter-widgets/controls",
            "_model_module_version": "1.5.0",
            "value": 1,
            "_view_count": null,
            "_view_module_version": "1.5.0",
            "orientation": "horizontal",
            "min": 0,
            "description_tooltip": null,
            "_model_module": "@jupyter-widgets/controls",
            "layout": "IPY_MODEL_118502032b214d2d97961f419368ac76"
          }
        },
        "9782b8a748e240bf852daecf5b8d7eec": {
          "model_module": "@jupyter-widgets/controls",
          "model_name": "HTMLModel",
          "state": {
            "_view_name": "HTMLView",
            "style": "IPY_MODEL_aefff61665b2425a806694d22141b478",
            "_dom_classes": [],
            "description": "",
            "_model_name": "HTMLModel",
            "placeholder": "​",
            "_view_module": "@jupyter-widgets/controls",
            "_model_module_version": "1.5.0",
            "value": " 170500096/? [00:20&lt;00:00, 34985446.62it/s]",
            "_view_count": null,
            "_view_module_version": "1.5.0",
            "description_tooltip": null,
            "_model_module": "@jupyter-widgets/controls",
            "layout": "IPY_MODEL_cc5600d07b52432e879246cd4b07c580"
          }
        },
        "873acb039a1844deb80c2f9f3c2a4d93": {
          "model_module": "@jupyter-widgets/controls",
          "model_name": "ProgressStyleModel",
          "state": {
            "_view_name": "StyleView",
            "_model_name": "ProgressStyleModel",
            "description_width": "initial",
            "_view_module": "@jupyter-widgets/base",
            "_model_module_version": "1.5.0",
            "_view_count": null,
            "_view_module_version": "1.2.0",
            "bar_color": null,
            "_model_module": "@jupyter-widgets/controls"
          }
        },
        "118502032b214d2d97961f419368ac76": {
          "model_module": "@jupyter-widgets/base",
          "model_name": "LayoutModel",
          "state": {
            "_view_name": "LayoutView",
            "grid_template_rows": null,
            "right": null,
            "justify_content": null,
            "_view_module": "@jupyter-widgets/base",
            "overflow": null,
            "_model_module_version": "1.2.0",
            "_view_count": null,
            "flex_flow": null,
            "width": null,
            "min_width": null,
            "border": null,
            "align_items": null,
            "bottom": null,
            "_model_module": "@jupyter-widgets/base",
            "top": null,
            "grid_column": null,
            "overflow_y": null,
            "overflow_x": null,
            "grid_auto_flow": null,
            "grid_area": null,
            "grid_template_columns": null,
            "flex": null,
            "_model_name": "LayoutModel",
            "justify_items": null,
            "grid_row": null,
            "max_height": null,
            "align_content": null,
            "visibility": null,
            "align_self": null,
            "height": null,
            "min_height": null,
            "padding": null,
            "grid_auto_rows": null,
            "grid_gap": null,
            "max_width": null,
            "order": null,
            "_view_module_version": "1.2.0",
            "grid_template_areas": null,
            "object_position": null,
            "object_fit": null,
            "grid_auto_columns": null,
            "margin": null,
            "display": null,
            "left": null
          }
        },
        "aefff61665b2425a806694d22141b478": {
          "model_module": "@jupyter-widgets/controls",
          "model_name": "DescriptionStyleModel",
          "state": {
            "_view_name": "StyleView",
            "_model_name": "DescriptionStyleModel",
            "description_width": "",
            "_view_module": "@jupyter-widgets/base",
            "_model_module_version": "1.5.0",
            "_view_count": null,
            "_view_module_version": "1.2.0",
            "_model_module": "@jupyter-widgets/controls"
          }
        },
        "cc5600d07b52432e879246cd4b07c580": {
          "model_module": "@jupyter-widgets/base",
          "model_name": "LayoutModel",
          "state": {
            "_view_name": "LayoutView",
            "grid_template_rows": null,
            "right": null,
            "justify_content": null,
            "_view_module": "@jupyter-widgets/base",
            "overflow": null,
            "_model_module_version": "1.2.0",
            "_view_count": null,
            "flex_flow": null,
            "width": null,
            "min_width": null,
            "border": null,
            "align_items": null,
            "bottom": null,
            "_model_module": "@jupyter-widgets/base",
            "top": null,
            "grid_column": null,
            "overflow_y": null,
            "overflow_x": null,
            "grid_auto_flow": null,
            "grid_area": null,
            "grid_template_columns": null,
            "flex": null,
            "_model_name": "LayoutModel",
            "justify_items": null,
            "grid_row": null,
            "max_height": null,
            "align_content": null,
            "visibility": null,
            "align_self": null,
            "height": null,
            "min_height": null,
            "padding": null,
            "grid_auto_rows": null,
            "grid_gap": null,
            "max_width": null,
            "order": null,
            "_view_module_version": "1.2.0",
            "grid_template_areas": null,
            "object_position": null,
            "object_fit": null,
            "grid_auto_columns": null,
            "margin": null,
            "display": null,
            "left": null
          }
        },
        "d21b73ce40524f15b92d1295b77499ae": {
          "model_module": "@jupyter-widgets/controls",
          "model_name": "HBoxModel",
          "state": {
            "_view_name": "HBoxView",
            "_dom_classes": [],
            "_model_name": "HBoxModel",
            "_view_module": "@jupyter-widgets/controls",
            "_model_module_version": "1.5.0",
            "_view_count": null,
            "_view_module_version": "1.5.0",
            "box_style": "",
            "layout": "IPY_MODEL_132c376ec86449c2966b8efaebe54484",
            "_model_module": "@jupyter-widgets/controls",
            "children": [
              "IPY_MODEL_511919972f19471984364a316dafb872",
              "IPY_MODEL_16b351fdc5b74253ab976a39330a473f"
            ]
          }
        },
        "132c376ec86449c2966b8efaebe54484": {
          "model_module": "@jupyter-widgets/base",
          "model_name": "LayoutModel",
          "state": {
            "_view_name": "LayoutView",
            "grid_template_rows": null,
            "right": null,
            "justify_content": null,
            "_view_module": "@jupyter-widgets/base",
            "overflow": null,
            "_model_module_version": "1.2.0",
            "_view_count": null,
            "flex_flow": null,
            "width": null,
            "min_width": null,
            "border": null,
            "align_items": null,
            "bottom": null,
            "_model_module": "@jupyter-widgets/base",
            "top": null,
            "grid_column": null,
            "overflow_y": null,
            "overflow_x": null,
            "grid_auto_flow": null,
            "grid_area": null,
            "grid_template_columns": null,
            "flex": null,
            "_model_name": "LayoutModel",
            "justify_items": null,
            "grid_row": null,
            "max_height": null,
            "align_content": null,
            "visibility": null,
            "align_self": null,
            "height": null,
            "min_height": null,
            "padding": null,
            "grid_auto_rows": null,
            "grid_gap": null,
            "max_width": null,
            "order": null,
            "_view_module_version": "1.2.0",
            "grid_template_areas": null,
            "object_position": null,
            "object_fit": null,
            "grid_auto_columns": null,
            "margin": null,
            "display": null,
            "left": null
          }
        },
        "511919972f19471984364a316dafb872": {
          "model_module": "@jupyter-widgets/controls",
          "model_name": "FloatProgressModel",
          "state": {
            "_view_name": "ProgressView",
            "style": "IPY_MODEL_6aa1dcd8c3b64508bee7cda347c82aca",
            "_dom_classes": [],
            "description": " 87%",
            "_model_name": "FloatProgressModel",
            "bar_style": "danger",
            "max": 100,
            "_view_module": "@jupyter-widgets/controls",
            "_model_module_version": "1.5.0",
            "value": 87,
            "_view_count": null,
            "_view_module_version": "1.5.0",
            "orientation": "horizontal",
            "min": 0,
            "description_tooltip": null,
            "_model_module": "@jupyter-widgets/controls",
            "layout": "IPY_MODEL_b7462835bd6a44c89038446e91ca5e26"
          }
        },
        "16b351fdc5b74253ab976a39330a473f": {
          "model_module": "@jupyter-widgets/controls",
          "model_name": "HTMLModel",
          "state": {
            "_view_name": "HTMLView",
            "style": "IPY_MODEL_15a113252c954563b8e00c7d32154d59",
            "_dom_classes": [],
            "description": "",
            "_model_name": "HTMLModel",
            "placeholder": "​",
            "_view_module": "@jupyter-widgets/controls",
            "_model_module_version": "1.5.0",
            "value": " 87/100 [01:30&lt;00:13,  1.01s/it]",
            "_view_count": null,
            "_view_module_version": "1.5.0",
            "description_tooltip": null,
            "_model_module": "@jupyter-widgets/controls",
            "layout": "IPY_MODEL_fa405d0aba2d4306beed3ad259c40205"
          }
        },
        "6aa1dcd8c3b64508bee7cda347c82aca": {
          "model_module": "@jupyter-widgets/controls",
          "model_name": "ProgressStyleModel",
          "state": {
            "_view_name": "StyleView",
            "_model_name": "ProgressStyleModel",
            "description_width": "initial",
            "_view_module": "@jupyter-widgets/base",
            "_model_module_version": "1.5.0",
            "_view_count": null,
            "_view_module_version": "1.2.0",
            "bar_color": null,
            "_model_module": "@jupyter-widgets/controls"
          }
        },
        "b7462835bd6a44c89038446e91ca5e26": {
          "model_module": "@jupyter-widgets/base",
          "model_name": "LayoutModel",
          "state": {
            "_view_name": "LayoutView",
            "grid_template_rows": null,
            "right": null,
            "justify_content": null,
            "_view_module": "@jupyter-widgets/base",
            "overflow": null,
            "_model_module_version": "1.2.0",
            "_view_count": null,
            "flex_flow": null,
            "width": null,
            "min_width": null,
            "border": null,
            "align_items": null,
            "bottom": null,
            "_model_module": "@jupyter-widgets/base",
            "top": null,
            "grid_column": null,
            "overflow_y": null,
            "overflow_x": null,
            "grid_auto_flow": null,
            "grid_area": null,
            "grid_template_columns": null,
            "flex": null,
            "_model_name": "LayoutModel",
            "justify_items": null,
            "grid_row": null,
            "max_height": null,
            "align_content": null,
            "visibility": null,
            "align_self": null,
            "height": null,
            "min_height": null,
            "padding": null,
            "grid_auto_rows": null,
            "grid_gap": null,
            "max_width": null,
            "order": null,
            "_view_module_version": "1.2.0",
            "grid_template_areas": null,
            "object_position": null,
            "object_fit": null,
            "grid_auto_columns": null,
            "margin": null,
            "display": null,
            "left": null
          }
        },
        "15a113252c954563b8e00c7d32154d59": {
          "model_module": "@jupyter-widgets/controls",
          "model_name": "DescriptionStyleModel",
          "state": {
            "_view_name": "StyleView",
            "_model_name": "DescriptionStyleModel",
            "description_width": "",
            "_view_module": "@jupyter-widgets/base",
            "_model_module_version": "1.5.0",
            "_view_count": null,
            "_view_module_version": "1.2.0",
            "_model_module": "@jupyter-widgets/controls"
          }
        },
        "fa405d0aba2d4306beed3ad259c40205": {
          "model_module": "@jupyter-widgets/base",
          "model_name": "LayoutModel",
          "state": {
            "_view_name": "LayoutView",
            "grid_template_rows": null,
            "right": null,
            "justify_content": null,
            "_view_module": "@jupyter-widgets/base",
            "overflow": null,
            "_model_module_version": "1.2.0",
            "_view_count": null,
            "flex_flow": null,
            "width": null,
            "min_width": null,
            "border": null,
            "align_items": null,
            "bottom": null,
            "_model_module": "@jupyter-widgets/base",
            "top": null,
            "grid_column": null,
            "overflow_y": null,
            "overflow_x": null,
            "grid_auto_flow": null,
            "grid_area": null,
            "grid_template_columns": null,
            "flex": null,
            "_model_name": "LayoutModel",
            "justify_items": null,
            "grid_row": null,
            "max_height": null,
            "align_content": null,
            "visibility": null,
            "align_self": null,
            "height": null,
            "min_height": null,
            "padding": null,
            "grid_auto_rows": null,
            "grid_gap": null,
            "max_width": null,
            "order": null,
            "_view_module_version": "1.2.0",
            "grid_template_areas": null,
            "object_position": null,
            "object_fit": null,
            "grid_auto_columns": null,
            "margin": null,
            "display": null,
            "left": null
          }
        }
      }
    }
  },
  "cells": [
    {
      "cell_type": "markdown",
      "metadata": {
        "id": "view-in-github",
        "colab_type": "text"
      },
      "source": [
        "<a href=\"https://colab.research.google.com/github/kranti-experiments/EVA4/blob/master/S11/S11_main.ipynb\" target=\"_parent\"><img src=\"https://colab.research.google.com/assets/colab-badge.svg\" alt=\"Open In Colab\"/></a>"
      ]
    },
    {
      "cell_type": "code",
      "metadata": {
        "id": "rBuudNQZq5qm",
        "colab_type": "code",
        "colab": {}
      },
      "source": [
        "import torch\n",
        "from torchsummary import summary\n",
        "import torch.nn as nn\n",
        "import torch.optim as optim\n",
        "import torch.nn.functional as F\n",
        "import torch.backends.cudnn as cudnn\n",
        "import torchvision"
      ],
      "execution_count": 1,
      "outputs": []
    },
    {
      "cell_type": "code",
      "metadata": {
        "id": "SLkFDvCgq5qy",
        "colab_type": "code",
        "colab": {}
      },
      "source": [
        "import numpy as np\n",
        "import matplotlib.pyplot as plt"
      ],
      "execution_count": 2,
      "outputs": []
    },
    {
      "cell_type": "code",
      "metadata": {
        "id": "3SKtlgZfq5rC",
        "colab_type": "code",
        "colab": {}
      },
      "source": [
        "if(torch.cuda.is_available):\n",
        "    device = 'cuda'\n",
        "else:\n",
        "    device = 'cpu'"
      ],
      "execution_count": 3,
      "outputs": []
    },
    {
      "cell_type": "code",
      "metadata": {
        "id": "BU54e7bmq5rL",
        "colab_type": "code",
        "colab": {}
      },
      "source": [
        "from AlbumentationTransforms import AlbumentationTransform\n",
        "from dataloader import getDataLoader\n",
        "\n",
        "import albumentations as AL\n",
        "import albumentations.pytorch as AT\n",
        "import cv2\n",
        "\n",
        "train_transform = AlbumentationTransform([\n",
        "                                       AL.PadIfNeeded(min_height=40, min_width=40, border_mode=cv2.BORDER_REFLECT_101, p=0.5),\n",
        "                                       AL.RandomCrop(32, 32),\n",
        "                                       AL.Flip(p=0.5),\n",
        "                                       AL.Normalize(mean=(0.5, 0.5, 0.5), std=(0.5, 0.5, 0.5)),\n",
        "                                       AL.Cutout(num_holes=1, max_h_size=8, max_w_size = 8, p=1),\n",
        "                                       AT.ToTensor()\n",
        "                                       ])\n",
        "# Test Phase transformations\n",
        "test_transform = AlbumentationTransform([AL.Normalize(mean=(0.5, 0.5, 0.5), std=(0.5, 0.5, 0.5)), AT.ToTensor()])"
      ],
      "execution_count": 4,
      "outputs": []
    },
    {
      "cell_type": "code",
      "metadata": {
        "id": "j7TaiPj1q5rW",
        "colab_type": "code",
        "colab": {
          "base_uri": "https://localhost:8080/",
          "height": 86,
          "referenced_widgets": [
            "5616479d8afb4d91895299037988d256",
            "05f3ddd56fcb42b8a93917303560d8d9",
            "6ccd1724e5744b51a119ca0e3852bb60",
            "9782b8a748e240bf852daecf5b8d7eec",
            "873acb039a1844deb80c2f9f3c2a4d93",
            "118502032b214d2d97961f419368ac76",
            "aefff61665b2425a806694d22141b478",
            "cc5600d07b52432e879246cd4b07c580"
          ]
        },
        "outputId": "8ec8e257-3195-4ca5-d58a-76eca8f60f3e"
      },
      "source": [
        "trainloader, testloader = getDataLoader('CIFAR10', 512, train_transform, test_transform)"
      ],
      "execution_count": 5,
      "outputs": [
        {
          "output_type": "stream",
          "text": [
            "Downloading https://www.cs.toronto.edu/~kriz/cifar-10-python.tar.gz to ../data/cifar-10-python.tar.gz\n"
          ],
          "name": "stdout"
        },
        {
          "output_type": "display_data",
          "data": {
            "application/vnd.jupyter.widget-view+json": {
              "model_id": "5616479d8afb4d91895299037988d256",
              "version_minor": 0,
              "version_major": 2
            },
            "text/plain": [
              "HBox(children=(FloatProgress(value=1.0, bar_style='info', max=1.0), HTML(value='')))"
            ]
          },
          "metadata": {
            "tags": []
          }
        },
        {
          "output_type": "stream",
          "text": [
            "Extracting ../data/cifar-10-python.tar.gz to ../data\n"
          ],
          "name": "stdout"
        }
      ]
    },
    {
      "cell_type": "code",
      "metadata": {
        "id": "xlw0iKPfq5rh",
        "colab_type": "code",
        "colab": {}
      },
      "source": [
        "classes = ('plane', 'car', 'bird', 'cat',\n",
        "           'deer', 'dog', 'frog', 'horse', 'ship', 'truck')"
      ],
      "execution_count": 6,
      "outputs": []
    },
    {
      "cell_type": "code",
      "metadata": {
        "id": "PHXvDdU3q5ro",
        "colab_type": "code",
        "colab": {}
      },
      "source": [
        "def imshow(img):\n",
        "    img = img / 2 + 0.5     # unnormalize\n",
        "    npimg = img.numpy()\n",
        "    plt.imshow(np.transpose(npimg, (1, 2, 0)))\n",
        "    plt.show()\n",
        "\n",
        "dataiter = iter(trainloader)\n",
        "images, labels = dataiter.next()"
      ],
      "execution_count": 7,
      "outputs": []
    },
    {
      "cell_type": "code",
      "metadata": {
        "id": "rnRsCVWpq5rt",
        "colab_type": "code",
        "colab": {
          "base_uri": "https://localhost:8080/",
          "height": 156
        },
        "outputId": "5c7a52bc-6fdd-475f-9adf-e060a8045e46"
      },
      "source": [
        "# show images\n",
        "imshow(torchvision.utils.make_grid(images[:4]))\n",
        "# print labels\n",
        "print(' '.join('%5s' % classes[labels[j]] for j in range(4)))"
      ],
      "execution_count": 8,
      "outputs": [
        {
          "output_type": "display_data",
          "data": {
            "image/png": "[encoded data removed]",
            "text/plain": [
              "<Figure size 432x288 with 1 Axes>"
            ]
          },
          "metadata": {
            "tags": [],
            "needs_background": "light"
          }
        },
        {
          "output_type": "stream",
          "text": [
            "horse  bird   cat   dog\n"
          ],
          "name": "stdout"
        }
      ]
    },
    {
      "cell_type": "code",
      "metadata": {
        "id": "OoJrlTCiq5ry",
        "colab_type": "code",
        "colab": {
          "base_uri": "https://localhost:8080/",
          "height": 788
        },
        "outputId": "d4c0592d-f2c9-4f1c-8744-4dfaa7640261"
      },
      "source": [
        "from models import CustomResNet\n",
        "\n",
        "net = CustomResNet.CustomResNet()\n",
        "net = net.to(device)\n",
        "\n",
        "summary(net, input_size=(3, 32, 32))"
      ],
      "execution_count": 9,
      "outputs": [
        {
          "output_type": "stream",
          "text": [
            "----------------------------------------------------------------\n",
            "        Layer (type)               Output Shape         Param #\n",
            "================================================================\n",
            "            Conv2d-1           [-1, 64, 32, 32]           1,728\n",
            "       BatchNorm2d-2           [-1, 64, 32, 32]             128\n",
            "              ReLU-3           [-1, 64, 32, 32]               0\n",
            "            Conv2d-4          [-1, 128, 32, 32]          73,728\n",
            "         MaxPool2d-5          [-1, 128, 16, 16]               0\n",
            "       BatchNorm2d-6          [-1, 128, 16, 16]             256\n",
            "              ReLU-7          [-1, 128, 16, 16]               0\n",
            "            Conv2d-8          [-1, 128, 16, 16]         147,456\n",
            "       BatchNorm2d-9          [-1, 128, 16, 16]             256\n",
            "             ReLU-10          [-1, 128, 16, 16]               0\n",
            "           Conv2d-11          [-1, 128, 16, 16]         147,456\n",
            "      BatchNorm2d-12          [-1, 128, 16, 16]             256\n",
            "             ReLU-13          [-1, 128, 16, 16]               0\n",
            "           Conv2d-14          [-1, 256, 16, 16]         294,912\n",
            "        MaxPool2d-15            [-1, 256, 8, 8]               0\n",
            "      BatchNorm2d-16            [-1, 256, 8, 8]             512\n",
            "             ReLU-17            [-1, 256, 8, 8]               0\n",
            "           Conv2d-18            [-1, 512, 8, 8]       1,179,648\n",
            "        MaxPool2d-19            [-1, 512, 4, 4]               0\n",
            "      BatchNorm2d-20            [-1, 512, 4, 4]           1,024\n",
            "             ReLU-21            [-1, 512, 4, 4]               0\n",
            "           Conv2d-22            [-1, 512, 4, 4]       2,359,296\n",
            "      BatchNorm2d-23            [-1, 512, 4, 4]           1,024\n",
            "             ReLU-24            [-1, 512, 4, 4]               0\n",
            "           Conv2d-25            [-1, 512, 4, 4]       2,359,296\n",
            "      BatchNorm2d-26            [-1, 512, 4, 4]           1,024\n",
            "             ReLU-27            [-1, 512, 4, 4]               0\n",
            "        MaxPool2d-28            [-1, 512, 1, 1]               0\n",
            "           Linear-29                   [-1, 10]           5,130\n",
            "================================================================\n",
            "Total params: 6,573,130\n",
            "Trainable params: 6,573,130\n",
            "Non-trainable params: 0\n",
            "----------------------------------------------------------------\n",
            "Input size (MB): 0.01\n",
            "Forward/backward pass size (MB): 6.44\n",
            "Params size (MB): 25.07\n",
            "Estimated Total Size (MB): 31.53\n",
            "----------------------------------------------------------------\n"
          ],
          "name": "stdout"
        }
      ]
    },
    {
      "cell_type": "code",
      "metadata": {
        "id": "B5mcV0cCq5r6",
        "colab_type": "code",
        "colab": {
          "base_uri": "https://localhost:8080/",
          "height": 54
        },
        "outputId": "95e3bec5-c5e6-4d58-e5f1-436cac578b2d"
      },
      "source": [
        "from LRfinder import LRFinder\n",
        "import torch.nn as nn\n",
        "import torch.optim as optim\n",
        "from torch.optim.lr_scheduler import StepLR"
      ],
      "execution_count": 12,
      "outputs": [
        {
          "output_type": "stream",
          "text": [
            "WARNING:LRfinder:To enable mixed precision training, please install `apex`. Or you can re-install this package by the following command:\n",
            "  pip install torch-lr-finder -v --global-option=\"amp\"\n"
          ],
          "name": "stderr"
        }
      ]
    },
    {
      "cell_type": "code",
      "metadata": {
        "id": "ecaEOPb8__l6",
        "colab_type": "code",
        "colab": {
          "base_uri": "https://localhost:8080/",
          "height": 352,
          "referenced_widgets": [
            "d21b73ce40524f15b92d1295b77499ae",
            "132c376ec86449c2966b8efaebe54484",
            "511919972f19471984364a316dafb872",
            "16b351fdc5b74253ab976a39330a473f",
            "6aa1dcd8c3b64508bee7cda347c82aca",
            "b7462835bd6a44c89038446e91ca5e26",
            "15a113252c954563b8e00c7d32154d59",
            "fa405d0aba2d4306beed3ad259c40205"
          ]
        },
        "outputId": "9061da6d-31d9-4b8c-ed7d-68d76966d535"
      },
      "source": [
        "criterion = nn.CrossEntropyLoss()\n",
        "optimizer = optim.SGD(net.parameters(), lr=1e-7,  momentum = 0.9)#weight_decay=1e-2)\n",
        "lr_finder = LRFinder(net, optimizer, criterion, device)\n",
        "lr_finder.range_test(trainloader, end_lr=100, num_iter=100)#, step_mode=\"exp\")\n",
        "lr_finder.plot()\n",
        "lr_finder.reset()"
      ],
      "execution_count": 18,
      "outputs": [
        {
          "output_type": "display_data",
          "data": {
            "application/vnd.jupyter.widget-view+json": {
              "model_id": "d21b73ce40524f15b92d1295b77499ae",
              "version_minor": 0,
              "version_major": 2
            },
            "text/plain": [
              "HBox(children=(FloatProgress(value=0.0), HTML(value='')))"
            ]
          },
          "metadata": {
            "tags": []
          }
        },
        {
          "output_type": "stream",
          "text": [
            "Stopping early, the loss has diverged\n",
            "Learning rate search finished. See the graph with {finder_name}.plot()\n"
          ],
          "name": "stdout"
        },
        {
          "output_type": "display_data",
          "data": {
            "image/png": "[encoded data removed]",
            "text/plain": [
              "<Figure size 432x288 with 1 Axes>"
            ]
          },
          "metadata": {
            "tags": [],
            "needs_background": "light"
          }
        }
      ]
    },
    {
      "cell_type": "code",
      "metadata": {
        "id": "qph5eLpQq5sG",
        "colab_type": "code",
        "colab": {
          "base_uri": "https://localhost:8080/",
          "height": 54
        },
        "outputId": "91ee6ba9-bb27-4dad-b7ee-1ebc3f5e6f37"
      },
      "source": [
        "loss = lr_finder.history['loss']\n",
        "lr = lr_finder.history['lr']\n",
        "print(min(loss))\n",
        "print(lr[loss.index(min(loss))])"
      ],
      "execution_count": 19,
      "outputs": [
        {
          "output_type": "stream",
          "text": [
            "2.5041557705096262\n",
            "0.01659586907437559\n"
          ],
          "name": "stdout"
        }
      ]
    },
    {
      "cell_type": "code",
      "metadata": {
        "id": "thdojytAq5sM",
        "colab_type": "code",
        "colab": {
          "base_uri": "https://localhost:8080/",
          "height": 265
        },
        "outputId": "024ecffe-6c2a-4665-8d72-69ca6eddf2db"
      },
      "source": [
        "import plot_cyclic_lr\n",
        "\n",
        "num_iterations = 98*24 #Batch_size = 512, 98 iterations in 1 epoch for CIFAR-10 dataset, 24 Epochs\n",
        "stepsize = 98 #Iterations in 1 epoch\n",
        "max_lr = 0.016 #best_lr from above\n",
        "min_lr = 0.001 #1/10th of max_lr\n",
        "\n",
        "plot_cyclic_lr.plot_lr(num_iterations, stepsize, max_lr, min_lr)"
      ],
      "execution_count": 20,
      "outputs": [
        {
          "output_type": "display_data",
          "data": {
            "image/png": "[encoded data removed]",
            "text/plain": [
              "<Figure size 432x288 with 1 Axes>"
            ]
          },
          "metadata": {
            "tags": [],
            "needs_background": "light"
          }
        }
      ]
    },
    {
      "cell_type": "code",
      "metadata": {
        "id": "w7ADs8L12PKf",
        "colab_type": "code",
        "colab": {}
      },
      "source": [
        "from torch.optim.lr_scheduler import StepLR\n",
        "\n",
        "optimizer = optim.SGD(net.parameters(), lr=0.001, momentum=0.95, weight_decay=1e-4)\n",
        "scheduler = torch.optim.lr_scheduler.OneCycleLR(optimizer,\n",
        "                 max_lr=0.016,\n",
        "                 epochs=24,\n",
        "                 steps_per_epoch=len(trainloader),                               \n",
        "                 pct_start=0.5,\n",
        "                 div_factor=10,\n",
        "                 final_div_factor=1e4)"
      ],
      "execution_count": 21,
      "outputs": []
    },
    {
      "cell_type": "code",
      "metadata": {
        "id": "zyLNASun2RQt",
        "colab_type": "code",
        "colab": {
          "base_uri": "https://localhost:8080/",
          "height": 1000
        },
        "outputId": "d594ba36-687d-455b-a550-b1b6cf25d1d5"
      },
      "source": [
        "import train\n",
        "\n",
        "net = train.cifar10train(net, device, trainloader, optimizer, criterion, 24, scheduler)"
      ],
      "execution_count": 22,
      "outputs": [
        {
          "output_type": "stream",
          "text": [
            "[1,    10] loss: 2.544\n",
            "[1,    20] loss: 2.111\n",
            "[1,    30] loss: 1.851\n",
            "[1,    40] loss: 1.694\n",
            "[1,    50] loss: 1.615\n",
            "[1,    60] loss: 1.525\n",
            "[1,    70] loss: 1.477\n",
            "[1,    80] loss: 1.452\n",
            "[1,    90] loss: 1.428\n",
            "[2,    10] loss: 1.333\n",
            "[2,    20] loss: 1.322\n",
            "[2,    30] loss: 1.291\n",
            "[2,    40] loss: 1.311\n",
            "[2,    50] loss: 1.275\n",
            "[2,    60] loss: 1.250\n",
            "[2,    70] loss: 1.222\n",
            "[2,    80] loss: 1.173\n",
            "[2,    90] loss: 1.159\n",
            "[3,    10] loss: 1.130\n",
            "[3,    20] loss: 1.116\n",
            "[3,    30] loss: 1.140\n",
            "[3,    40] loss: 1.116\n",
            "[3,    50] loss: 1.111\n",
            "[3,    60] loss: 1.077\n",
            "[3,    70] loss: 1.018\n",
            "[3,    80] loss: 1.017\n",
            "[3,    90] loss: 1.031\n",
            "[4,    10] loss: 1.009\n",
            "[4,    20] loss: 0.981\n",
            "[4,    30] loss: 0.980\n",
            "[4,    40] loss: 0.999\n",
            "[4,    50] loss: 0.966\n",
            "[4,    60] loss: 1.007\n",
            "[4,    70] loss: 0.965\n",
            "[4,    80] loss: 0.955\n",
            "[4,    90] loss: 0.965\n",
            "[5,    10] loss: 0.949\n",
            "[5,    20] loss: 0.930\n",
            "[5,    30] loss: 0.879\n",
            "[5,    40] loss: 0.872\n",
            "[5,    50] loss: 0.862\n",
            "[5,    60] loss: 0.856\n",
            "[5,    70] loss: 0.884\n",
            "[5,    80] loss: 0.869\n",
            "[5,    90] loss: 0.870\n",
            "[6,    10] loss: 0.831\n",
            "[6,    20] loss: 0.825\n",
            "[6,    30] loss: 0.830\n",
            "[6,    40] loss: 0.839\n",
            "[6,    50] loss: 0.872\n",
            "[6,    60] loss: 0.871\n",
            "[6,    70] loss: 0.827\n",
            "[6,    80] loss: 0.831\n",
            "[6,    90] loss: 0.813\n",
            "[7,    10] loss: 0.742\n",
            "[7,    20] loss: 0.694\n",
            "[7,    30] loss: 0.717\n",
            "[7,    40] loss: 0.748\n",
            "[7,    50] loss: 0.751\n",
            "[7,    60] loss: 0.792\n",
            "[7,    70] loss: 0.858\n",
            "[7,    80] loss: 0.800\n",
            "[7,    90] loss: 0.778\n",
            "[8,    10] loss: 0.669\n",
            "[8,    20] loss: 0.649\n",
            "[8,    30] loss: 0.645\n",
            "[8,    40] loss: 0.617\n",
            "[8,    50] loss: 0.646\n",
            "[8,    60] loss: 0.637\n",
            "[8,    70] loss: 0.706\n",
            "[8,    80] loss: 0.657\n",
            "[8,    90] loss: 0.673\n",
            "[9,    10] loss: 0.596\n",
            "[9,    20] loss: 0.652\n",
            "[9,    30] loss: 0.617\n",
            "[9,    40] loss: 0.677\n",
            "[9,    50] loss: 0.666\n",
            "[9,    60] loss: 0.670\n",
            "[9,    70] loss: 0.693\n",
            "[9,    80] loss: 0.655\n",
            "[9,    90] loss: 0.588\n",
            "[10,    10] loss: 0.599\n",
            "[10,    20] loss: 0.564\n",
            "[10,    30] loss: 0.587\n",
            "[10,    40] loss: 0.551\n",
            "[10,    50] loss: 0.582\n",
            "[10,    60] loss: 0.581\n",
            "[10,    70] loss: 0.602\n",
            "[10,    80] loss: 0.593\n",
            "[10,    90] loss: 0.611\n",
            "[11,    10] loss: 0.575\n",
            "[11,    20] loss: 0.567\n",
            "[11,    30] loss: 0.562\n",
            "[11,    40] loss: 0.559\n",
            "[11,    50] loss: 0.550\n",
            "[11,    60] loss: 0.545\n",
            "[11,    70] loss: 0.538\n",
            "[11,    80] loss: 0.552\n",
            "[11,    90] loss: 0.612\n",
            "[12,    10] loss: 0.506\n",
            "[12,    20] loss: 0.509\n",
            "[12,    30] loss: 0.519\n",
            "[12,    40] loss: 0.525\n",
            "[12,    50] loss: 0.530\n",
            "[12,    60] loss: 0.529\n",
            "[12,    70] loss: 0.565\n",
            "[12,    80] loss: 0.547\n",
            "[12,    90] loss: 0.487\n",
            "[13,    10] loss: 0.497\n",
            "[13,    20] loss: 0.449\n",
            "[13,    30] loss: 0.472\n",
            "[13,    40] loss: 0.475\n",
            "[13,    50] loss: 0.513\n",
            "[13,    60] loss: 0.491\n",
            "[13,    70] loss: 0.473\n",
            "[13,    80] loss: 0.493\n",
            "[13,    90] loss: 0.496\n",
            "[14,    10] loss: 0.441\n",
            "[14,    20] loss: 0.459\n",
            "[14,    30] loss: 0.431\n",
            "[14,    40] loss: 0.431\n",
            "[14,    50] loss: 0.449\n",
            "[14,    60] loss: 0.435\n",
            "[14,    70] loss: 0.463\n",
            "[14,    80] loss: 0.497\n",
            "[14,    90] loss: 0.434\n",
            "[15,    10] loss: 0.366\n",
            "[15,    20] loss: 0.420\n",
            "[15,    30] loss: 0.426\n",
            "[15,    40] loss: 0.431\n",
            "[15,    50] loss: 0.440\n",
            "[15,    60] loss: 0.399\n",
            "[15,    70] loss: 0.417\n",
            "[15,    80] loss: 0.373\n",
            "[15,    90] loss: 0.416\n",
            "[16,    10] loss: 0.413\n",
            "[16,    20] loss: 0.385\n",
            "[16,    30] loss: 0.367\n",
            "[16,    40] loss: 0.367\n",
            "[16,    50] loss: 0.387\n",
            "[16,    60] loss: 0.380\n",
            "[16,    70] loss: 0.361\n",
            "[16,    80] loss: 0.406\n",
            "[16,    90] loss: 0.424\n",
            "[17,    10] loss: 0.345\n",
            "[17,    20] loss: 0.358\n",
            "[17,    30] loss: 0.375\n",
            "[17,    40] loss: 0.369\n",
            "[17,    50] loss: 0.384\n",
            "[17,    60] loss: 0.346\n",
            "[17,    70] loss: 0.385\n",
            "[17,    80] loss: 0.373\n",
            "[17,    90] loss: 0.352\n",
            "[18,    10] loss: 0.357\n",
            "[18,    20] loss: 0.319\n",
            "[18,    30] loss: 0.332\n",
            "[18,    40] loss: 0.323\n",
            "[18,    50] loss: 0.339\n",
            "[18,    60] loss: 0.341\n",
            "[18,    70] loss: 0.318\n",
            "[18,    80] loss: 0.310\n",
            "[18,    90] loss: 0.323\n",
            "[19,    10] loss: 0.312\n",
            "[19,    20] loss: 0.331\n",
            "[19,    30] loss: 0.303\n",
            "[19,    40] loss: 0.288\n",
            "[19,    50] loss: 0.294\n",
            "[19,    60] loss: 0.302\n",
            "[19,    70] loss: 0.275\n",
            "[19,    80] loss: 0.315\n",
            "[19,    90] loss: 0.284\n",
            "[20,    10] loss: 0.258\n",
            "[20,    20] loss: 0.267\n",
            "[20,    30] loss: 0.265\n",
            "[20,    40] loss: 0.286\n",
            "[20,    50] loss: 0.259\n",
            "[20,    60] loss: 0.288\n",
            "[20,    70] loss: 0.281\n",
            "[20,    80] loss: 0.267\n",
            "[20,    90] loss: 0.277\n",
            "[21,    10] loss: 0.264\n",
            "[21,    20] loss: 0.257\n",
            "[21,    30] loss: 0.248\n",
            "[21,    40] loss: 0.239\n",
            "[21,    50] loss: 0.231\n",
            "[21,    60] loss: 0.256\n",
            "[21,    70] loss: 0.241\n",
            "[21,    80] loss: 0.235\n",
            "[21,    90] loss: 0.229\n",
            "[22,    10] loss: 0.230\n",
            "[22,    20] loss: 0.238\n",
            "[22,    30] loss: 0.230\n",
            "[22,    40] loss: 0.222\n",
            "[22,    50] loss: 0.217\n",
            "[22,    60] loss: 0.217\n",
            "[22,    70] loss: 0.212\n",
            "[22,    80] loss: 0.202\n",
            "[22,    90] loss: 0.202\n",
            "[23,    10] loss: 0.202\n",
            "[23,    20] loss: 0.186\n",
            "[23,    30] loss: 0.190\n",
            "[23,    40] loss: 0.201\n",
            "[23,    50] loss: 0.206\n",
            "[23,    60] loss: 0.179\n",
            "[23,    70] loss: 0.186\n",
            "[23,    80] loss: 0.186\n",
            "[23,    90] loss: 0.190\n",
            "[24,    10] loss: 0.192\n",
            "[24,    20] loss: 0.186\n",
            "[24,    30] loss: 0.179\n",
            "[24,    40] loss: 0.197\n",
            "[24,    50] loss: 0.170\n",
            "[24,    60] loss: 0.176\n",
            "[24,    70] loss: 0.179\n",
            "[24,    80] loss: 0.187\n",
            "[24,    90] loss: 0.188\n",
            "Finished Training\n"
          ],
          "name": "stdout"
        }
      ]
    },
    {
      "cell_type": "code",
      "metadata": {
        "id": "kmSKo6CX5N65",
        "colab_type": "code",
        "colab": {
          "base_uri": "https://localhost:8080/",
          "height": 35
        },
        "outputId": "fa077bb3-cdfb-40e2-e339-956a994b0c61"
      },
      "source": [
        "import test\n",
        "\n",
        "test.cifar10test(net, testloader, device)"
      ],
      "execution_count": 23,
      "outputs": [
        {
          "output_type": "stream",
          "text": [
            "Accuracy of the network on the 10000 test images: 89 %\n"
          ],
          "name": "stdout"
        }
      ]
    },
    {
      "cell_type": "code",
      "metadata": {
        "id": "SxEhC2yIq5sR",
        "colab_type": "code",
        "colab": {}
      },
      "source": [
        "from torch.optim.lr_scheduler import StepLR\n",
        "import oncecycle\n",
        "\n",
        "\n",
        "epochs = 24\n",
        "batchsize = 512\n",
        "\n",
        "\n",
        "onecycle = oncecycle.OneCycle(int(len(trainloader) * epochs /batchsize), 0.016, prcnt=( 5) * 100/epochs, momentum_vals=(0.95, 0.8))"
      ],
      "execution_count": 24,
      "outputs": []
    },
    {
      "cell_type": "code",
      "metadata": {
        "id": "6-MGphie0Xt5",
        "colab_type": "code",
        "colab": {}
      },
      "source": [
        "optimizer = torch.optim.SGD(net.parameters(), lr=0.001, momentum=0.95, weight_decay=1e-4)\n"
      ],
      "execution_count": 25,
      "outputs": []
    },
    {
      "cell_type": "code",
      "metadata": {
        "id": "8oSUyMQ6q5sV",
        "colab_type": "code",
        "colab": {
          "base_uri": "https://localhost:8080/",
          "height": 1000
        },
        "outputId": "2e1f9d53-213d-4e1e-b8c9-49342e2598de"
      },
      "source": [
        "import train\n",
        "\n",
        "net = train.cifar10train(net, device, trainloader, optimizer, criterion, 24, scheduler=None, use_cycle=True, send_cycle=onecycle)"
      ],
      "execution_count": 26,
      "outputs": [
        {
          "output_type": "stream",
          "text": [
            "[1,    10] loss: 1.014\n",
            "[1,    20] loss: 7.380\n",
            "[1,    30] loss: 5.447\n",
            "[1,    40] loss: 5.310\n",
            "[1,    50] loss: 2.000\n",
            "[1,    60] loss: 0.857\n",
            "[1,    70] loss: 0.891\n",
            "[1,    80] loss: 1.051\n",
            "[1,    90] loss: 0.608\n",
            "[2,    10] loss: 0.772\n",
            "[2,    20] loss: 2.075\n",
            "[2,    30] loss: 0.599\n",
            "[2,    40] loss: 0.530\n",
            "[2,    50] loss: 0.653\n",
            "[2,    60] loss: 0.747\n",
            "[2,    70] loss: 0.675\n",
            "[2,    80] loss: 1.176\n",
            "[2,    90] loss: 1.377\n",
            "[3,    10] loss: 1.064\n",
            "[3,    20] loss: 0.542\n",
            "[3,    30] loss: 0.618\n",
            "[3,    40] loss: 0.458\n",
            "[3,    50] loss: 0.539\n",
            "[3,    60] loss: 0.488\n",
            "[3,    70] loss: 0.429\n",
            "[3,    80] loss: 0.525\n",
            "[3,    90] loss: 0.545\n",
            "[4,    10] loss: 0.493\n",
            "[4,    20] loss: 1.010\n",
            "[4,    30] loss: 0.734\n",
            "[4,    40] loss: 0.394\n",
            "[4,    50] loss: 0.347\n",
            "[4,    60] loss: 0.420\n",
            "[4,    70] loss: 0.457\n",
            "[4,    80] loss: 0.516\n",
            "[4,    90] loss: 0.395\n",
            "[5,    10] loss: 0.406\n",
            "[5,    20] loss: 0.518\n",
            "[5,    30] loss: 0.403\n",
            "[5,    40] loss: 0.363\n",
            "[5,    50] loss: 0.699\n",
            "[5,    60] loss: 0.832\n",
            "[5,    70] loss: 0.477\n",
            "[5,    80] loss: 0.469\n",
            "[5,    90] loss: 0.421\n",
            "[6,    10] loss: 0.413\n",
            "[6,    20] loss: 0.275\n",
            "[6,    30] loss: 0.377\n",
            "[6,    40] loss: 0.300\n",
            "[6,    50] loss: 0.339\n",
            "[6,    60] loss: 0.360\n",
            "[6,    70] loss: 0.423\n",
            "[6,    80] loss: 0.350\n",
            "[6,    90] loss: 0.294\n",
            "[7,    10] loss: 0.465\n",
            "[7,    20] loss: 0.421\n",
            "[7,    30] loss: 0.396\n",
            "[7,    40] loss: 0.538\n",
            "[7,    50] loss: 0.354\n",
            "[7,    60] loss: 0.291\n",
            "[7,    70] loss: 0.262\n",
            "[7,    80] loss: 0.291\n",
            "[7,    90] loss: 0.368\n",
            "[8,    10] loss: 0.384\n",
            "[8,    20] loss: 0.310\n",
            "[8,    30] loss: 0.320\n",
            "[8,    40] loss: 0.358\n",
            "[8,    50] loss: 0.401\n",
            "[8,    60] loss: 0.379\n",
            "[8,    70] loss: 0.309\n",
            "[8,    80] loss: 0.313\n",
            "[8,    90] loss: 0.263\n",
            "[9,    10] loss: 0.283\n",
            "[9,    20] loss: 0.245\n",
            "[9,    30] loss: 0.262\n",
            "[9,    40] loss: 0.270\n",
            "[9,    50] loss: 0.287\n",
            "[9,    60] loss: 0.319\n",
            "[9,    70] loss: 0.253\n",
            "[9,    80] loss: 0.284\n",
            "[9,    90] loss: 0.358\n",
            "[10,    10] loss: 0.853\n",
            "[10,    20] loss: 0.628\n",
            "[10,    30] loss: 0.332\n",
            "[10,    40] loss: 0.264\n",
            "[10,    50] loss: 0.288\n",
            "[10,    60] loss: 0.267\n",
            "[10,    70] loss: 0.280\n",
            "[10,    80] loss: 0.263\n",
            "[10,    90] loss: 0.274\n",
            "[11,    10] loss: 0.230\n",
            "[11,    20] loss: 0.370\n",
            "[11,    30] loss: 0.322\n",
            "[11,    40] loss: 0.234\n",
            "[11,    50] loss: 0.437\n",
            "[11,    60] loss: 0.423\n",
            "[11,    70] loss: 0.364\n",
            "[11,    80] loss: 0.390\n",
            "[11,    90] loss: 0.325\n",
            "[12,    10] loss: 0.269\n",
            "[12,    20] loss: 0.231\n",
            "[12,    30] loss: 0.226\n",
            "[12,    40] loss: 0.226\n",
            "[12,    50] loss: 0.226\n",
            "[12,    60] loss: 0.235\n",
            "[12,    70] loss: 0.479\n",
            "[12,    80] loss: 0.262\n",
            "[12,    90] loss: 0.225\n",
            "[13,    10] loss: 0.275\n",
            "[13,    20] loss: 0.228\n",
            "[13,    30] loss: 0.218\n",
            "[13,    40] loss: 0.291\n",
            "[13,    50] loss: 0.223\n",
            "[13,    60] loss: 0.236\n",
            "[13,    70] loss: 0.338\n",
            "[13,    80] loss: 0.286\n",
            "[13,    90] loss: 0.226\n",
            "[14,    10] loss: 0.204\n",
            "[14,    20] loss: 0.251\n",
            "[14,    30] loss: 0.201\n",
            "[14,    40] loss: 0.207\n",
            "[14,    50] loss: 0.207\n",
            "[14,    60] loss: 0.227\n",
            "[14,    70] loss: 0.264\n",
            "[14,    80] loss: 0.538\n",
            "[14,    90] loss: 0.441\n",
            "[15,    10] loss: 0.191\n",
            "[15,    20] loss: 0.247\n",
            "[15,    30] loss: 0.251\n",
            "[15,    40] loss: 0.240\n",
            "[15,    50] loss: 0.208\n",
            "[15,    60] loss: 0.226\n",
            "[15,    70] loss: 0.189\n",
            "[15,    80] loss: 0.174\n",
            "[15,    90] loss: 0.188\n",
            "[16,    10] loss: 0.193\n",
            "[16,    20] loss: 0.246\n",
            "[16,    30] loss: 0.229\n",
            "[16,    40] loss: 0.176\n",
            "[16,    50] loss: 0.207\n",
            "[16,    60] loss: 0.202\n",
            "[16,    70] loss: 0.176\n",
            "[16,    80] loss: 0.226\n",
            "[16,    90] loss: 0.200\n",
            "[17,    10] loss: 0.202\n",
            "[17,    20] loss: 0.218\n",
            "[17,    30] loss: 0.193\n",
            "[17,    40] loss: 0.183\n",
            "[17,    50] loss: 0.219\n",
            "[17,    60] loss: 0.248\n",
            "[17,    70] loss: 0.275\n",
            "[17,    80] loss: 0.312\n",
            "[17,    90] loss: 0.225\n",
            "[18,    10] loss: 0.178\n",
            "[18,    20] loss: 0.167\n",
            "[18,    30] loss: 0.220\n",
            "[18,    40] loss: 0.218\n",
            "[18,    50] loss: 0.166\n",
            "[18,    60] loss: 0.188\n",
            "[18,    70] loss: 0.266\n",
            "[18,    80] loss: 0.172\n",
            "[18,    90] loss: 0.282\n",
            "[19,    10] loss: 0.245\n",
            "[19,    20] loss: 0.169\n",
            "[19,    30] loss: 0.162\n",
            "[19,    40] loss: 0.161\n",
            "[19,    50] loss: 0.236\n",
            "[19,    60] loss: 0.208\n",
            "[19,    70] loss: 0.166\n",
            "[19,    80] loss: 0.154\n",
            "[19,    90] loss: 0.195\n",
            "[20,    10] loss: 0.163\n",
            "[20,    20] loss: 0.174\n",
            "[20,    30] loss: 0.190\n",
            "[20,    40] loss: 0.261\n",
            "[20,    50] loss: 0.176\n",
            "[20,    60] loss: 0.254\n",
            "[20,    70] loss: 0.174\n",
            "[20,    80] loss: 0.193\n",
            "[20,    90] loss: 0.180\n",
            "[21,    10] loss: 0.186\n",
            "[21,    20] loss: 0.159\n",
            "[21,    30] loss: 0.173\n",
            "[21,    40] loss: 0.198\n",
            "[21,    50] loss: 0.179\n",
            "[21,    60] loss: 0.177\n",
            "[21,    70] loss: 0.174\n",
            "[21,    80] loss: 0.162\n",
            "[21,    90] loss: 0.228\n",
            "[22,    10] loss: 0.174\n",
            "[22,    20] loss: 0.186\n",
            "[22,    30] loss: 0.200\n",
            "[22,    40] loss: 0.172\n",
            "[22,    50] loss: 0.161\n",
            "[22,    60] loss: 0.175\n",
            "[22,    70] loss: 0.224\n",
            "[22,    80] loss: 0.219\n",
            "[22,    90] loss: 0.228\n",
            "[23,    10] loss: 0.145\n",
            "[23,    20] loss: 0.212\n",
            "[23,    30] loss: 0.202\n",
            "[23,    40] loss: 0.151\n",
            "[23,    50] loss: 0.163\n",
            "[23,    60] loss: 0.155\n",
            "[23,    70] loss: 0.163\n",
            "[23,    80] loss: 0.201\n",
            "[23,    90] loss: 0.198\n",
            "[24,    10] loss: 0.433\n",
            "[24,    20] loss: 0.165\n",
            "[24,    30] loss: 0.175\n",
            "[24,    40] loss: 0.162\n",
            "[24,    50] loss: 0.155\n",
            "[24,    60] loss: 0.160\n",
            "[24,    70] loss: 0.162\n",
            "[24,    80] loss: 0.162\n",
            "[24,    90] loss: 0.168\n",
            "Finished Training\n"
          ],
          "name": "stdout"
        }
      ]
    },
    {
      "cell_type": "code",
      "metadata": {
        "id": "SrgAtQhtq5sa",
        "colab_type": "code",
        "colab": {
          "base_uri": "https://localhost:8080/",
          "height": 35
        },
        "outputId": "ccbe32e2-db3e-4446-f22c-1b606c0b7913"
      },
      "source": [
        "import test\n",
        "\n",
        "test.cifar10test(net, testloader, device)"
      ],
      "execution_count": 27,
      "outputs": [
        {
          "output_type": "stream",
          "text": [
            "Accuracy of the network on the 10000 test images: 88 %\n"
          ],
          "name": "stdout"
        }
      ]
    },
    {
      "cell_type": "code",
      "metadata": {
        "id": "fEJjFZsjq5se",
        "colab_type": "code",
        "colab": {}
      },
      "source": [
        ""
      ],
      "execution_count": null,
      "outputs": []
    }
  ]
}