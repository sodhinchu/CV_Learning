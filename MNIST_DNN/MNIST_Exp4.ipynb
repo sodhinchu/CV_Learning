{
 "cells": [
  {
   "cell_type": "markdown",
   "metadata": {},
   "source": [
    "Target: Add batch normalization to increase efficiency <br>\n",
    "\n",
    "Results: <br>\n",
    "Parameters: 8,680 (<10K) <br> <br>\n",
    "Best Training Accuracy: 99.75 <br>\n",
    "Best Test Accuracy: 99.15 <br>\n",
    "\n",
    "Analysis: <br>\n",
    "Good model, train, test accuracy increased over previous experiment <br>\n",
    "Can still increase few layers/filters to increase accuracy to touch 99.4 <br>"
   ]
  },
  {
   "cell_type": "code",
   "execution_count": 1,
   "metadata": {},
   "outputs": [
    {
     "name": "stdout",
     "output_type": "stream",
     "text": [
      "Requirement already satisfied: torchsummary in c:\\users\\ktgan\\appdata\\local\\programs\\python\\python36\\lib\\site-packages (1.5.1)\n"
     ]
    },
    {
     "name": "stderr",
     "output_type": "stream",
     "text": [
      "WARNING: pip is being invoked by an old script wrapper. This will fail in a future version of pip.\n",
      "Please see https://github.com/pypa/pip/issues/5599 for advice on fixing the underlying issue.\n",
      "To avoid this problem you can invoke Python with '-m pip' instead of running pip directly.\n"
     ]
    }
   ],
   "source": [
    "!pip install torchsummary"
   ]
  },
  {
   "cell_type": "code",
   "execution_count": 2,
   "metadata": {},
   "outputs": [],
   "source": [
    "from __future__ import print_function\n",
    "import torch\n",
    "import torch.nn as nn\n",
    "import torch.nn.functional as F\n",
    "import torch.optim as optim\n",
    "from torchvision import datasets, transforms\n",
    "from torchsummary import summary"
   ]
  },
  {
   "cell_type": "code",
   "execution_count": 3,
   "metadata": {},
   "outputs": [
    {
     "data": {
      "text/plain": [
       "device(type='cuda')"
      ]
     },
     "execution_count": 3,
     "metadata": {},
     "output_type": "execute_result"
    }
   ],
   "source": [
    "use_cuda = torch.cuda.is_available()\n",
    "device = torch.device(\"cuda\" if use_cuda else \"cpu\")\n",
    "device"
   ]
  },
  {
   "cell_type": "code",
   "execution_count": 4,
   "metadata": {},
   "outputs": [],
   "source": [
    "torch.manual_seed(1)\n",
    "batch_size = 128\n",
    "\n",
    "kwargs = {'num_workers': 1, 'pin_memory': True} if use_cuda else {}\n",
    "train_loader = torch.utils.data.DataLoader(\n",
    "    datasets.MNIST('../data', train=True, download=True,\n",
    "                    transform=transforms.Compose([\n",
    "                        transforms.ToTensor(),\n",
    "                        transforms.Normalize((0.1307,), (0.3081,))\n",
    "                    ])),\n",
    "    batch_size=batch_size, shuffle=True, **kwargs)\n",
    "test_loader = torch.utils.data.DataLoader(\n",
    "    datasets.MNIST('../data', train=False, transform=transforms.Compose([\n",
    "                        transforms.ToTensor(),\n",
    "                        transforms.Normalize((0.1307,), (0.3081,))\n",
    "                    ])),\n",
    "    batch_size=batch_size, shuffle=True, **kwargs)\n"
   ]
  },
  {
   "cell_type": "code",
   "execution_count": 8,
   "metadata": {},
   "outputs": [],
   "source": [
    "class Net(nn.Module):\n",
    "    def __init__(self):\n",
    "        super(Net, self).__init__()\n",
    "        self.conv1 = nn.Conv2d(1, 10, 3, padding=1) #input -28 Output- 26 RF 3\n",
    "        self.b1c1 = nn.BatchNorm2d(10)\n",
    "        self.conv2 = nn.Conv2d(10, 20, 1, padding=0)\n",
    "        self.b2c2 = nn.BatchNorm2d(20)\n",
    "        self.pool1 = nn.MaxPool2d(2, 2)\n",
    "        self.conv3 = nn.Conv2d(20, 20, 1, padding=0)\n",
    "        self.b3c3 = nn.BatchNorm2d(20)\n",
    "        self.conv4 = nn.Conv2d(20, 20, 3, padding=1)\n",
    "        self.b4c4 = nn.BatchNorm2d(20)\n",
    "        self.pool2 = nn.MaxPool2d(2, 2)\n",
    "        #self.pool2 = nn.AdaptiveAvgPool2d(7)\n",
    "        self.conv5 = nn.Conv2d(20, 10, 3)\n",
    "        self.b5c5 = nn.BatchNorm2d(10)\n",
    "        self.conv6 = nn.Conv2d(10, 10, 5)\n",
    "        #self.conv7 = nn.Conv2d(32, 10, 3)\n",
    "\n",
    "    def forward(self, x):\n",
    "        x = self.pool1(F.relu(self.b2c2(self.conv2(F.relu(self.b1c1(self.conv1(x)))))))\n",
    "        x = self.pool2(F.relu(self.b4c4(self.conv4(F.relu(self.b3c3(self.conv3(x)))))))\n",
    "        x = F.relu(self.conv6(F.relu(self.b5c5(self.conv5(x)))))\n",
    "        #x = F.relu(self.conv7(x))\n",
    "        x = x.view(-1, 10)\n",
    "        return F.log_softmax(x)"
   ]
  },
  {
   "cell_type": "code",
   "execution_count": 9,
   "metadata": {},
   "outputs": [
    {
     "name": "stderr",
     "output_type": "stream",
     "text": [
      "c:\\users\\ktgan\\appdata\\local\\programs\\python\\python36\\lib\\site-packages\\ipykernel_launcher.py:26: UserWarning: Implicit dimension choice for log_softmax has been deprecated. Change the call to include dim=X as an argument.\n"
     ]
    },
    {
     "name": "stdout",
     "output_type": "stream",
     "text": [
      "----------------------------------------------------------------\n",
      "        Layer (type)               Output Shape         Param #\n",
      "================================================================\n",
      "            Conv2d-1           [-1, 10, 28, 28]             100\n",
      "       BatchNorm2d-2           [-1, 10, 28, 28]              20\n",
      "            Conv2d-3           [-1, 20, 28, 28]             220\n",
      "       BatchNorm2d-4           [-1, 20, 28, 28]              40\n",
      "         MaxPool2d-5           [-1, 20, 14, 14]               0\n",
      "            Conv2d-6           [-1, 20, 14, 14]             420\n",
      "       BatchNorm2d-7           [-1, 20, 14, 14]              40\n",
      "            Conv2d-8           [-1, 20, 14, 14]           3,620\n",
      "       BatchNorm2d-9           [-1, 20, 14, 14]              40\n",
      "        MaxPool2d-10             [-1, 20, 7, 7]               0\n",
      "           Conv2d-11             [-1, 10, 5, 5]           1,810\n",
      "      BatchNorm2d-12             [-1, 10, 5, 5]              20\n",
      "           Conv2d-13             [-1, 10, 1, 1]           2,510\n",
      "================================================================\n",
      "Total params: 8,840\n",
      "Trainable params: 8,840\n",
      "Non-trainable params: 0\n",
      "----------------------------------------------------------------\n",
      "Input size (MB): 0.00\n",
      "Forward/backward pass size (MB): 0.52\n",
      "Params size (MB): 0.03\n",
      "Estimated Total Size (MB): 0.56\n",
      "----------------------------------------------------------------\n"
     ]
    }
   ],
   "source": [
    "model = Net().to(device)\n",
    "summary(model, input_size=(1, 28, 28))"
   ]
  },
  {
   "cell_type": "code",
   "execution_count": 10,
   "metadata": {},
   "outputs": [],
   "source": [
    "from tqdm import tqdm\n",
    "train_losses = []\n",
    "test_losses = []\n",
    "train_accuracy = []\n",
    "test_accuracy = []\n",
    "def train(model, device, train_loader, optimizer, epoch):\n",
    "    model.train()\n",
    "    train_loss = 0\n",
    "    correct = 0\n",
    "    processed = 0\n",
    "    pbar = tqdm(train_loader)\n",
    "    for batch_idx, (data, target) in enumerate(pbar):\n",
    "        data, target = data.to(device), target.to(device)\n",
    "        optimizer.zero_grad()\n",
    "        output = model(data)\n",
    "        loss = F.nll_loss(output, target)\n",
    "        loss.backward()\n",
    "        optimizer.step()\n",
    "        train_loss += F.nll_loss(output, target, reduction='sum').item()  # sum up batch loss\n",
    "        pred = output.argmax(dim=1, keepdim=True)  # get the index of the max log-probability\n",
    "        correct += pred.eq(target.view_as(pred)).sum().item()\n",
    "        processed += len(data)\n",
    "        train_losses.append(loss)\n",
    "        pbar.set_description(desc= f'loss={loss.item()} batch_id={batch_idx} Accuracy = {100*correct/processed:0.2f}')\n",
    "\n",
    "    train_loss /= len(train_loader.dataset)\n",
    "    train_accuracy.append(100*correct/len(train_loader.dataset))\n",
    "\n",
    "    print('\\nTrain set: Average loss: {:.4f}, Accuracy: {}/{} ({:.2f}%)'.format(\n",
    "        train_loss, correct, len(train_loader.dataset),\n",
    "        100. * correct / len(train_loader.dataset)))\n",
    "\n",
    "def test(model, device, test_loader):\n",
    "    model.eval()\n",
    "    test_loss = 0\n",
    "    correct = 0\n",
    "    processed = 0\n",
    "    with torch.no_grad():\n",
    "        for data, target in test_loader:\n",
    "            data, target = data.to(device), target.to(device)\n",
    "            output = model(data)\n",
    "            test_loss += F.nll_loss(output, target, reduction='sum').item()  # sum up batch loss\n",
    "            pred = output.argmax(dim=1, keepdim=True)  # get the index of the max log-probability\n",
    "            correct += pred.eq(target.view_as(pred)).sum().item()\n",
    "            processed += len(data)\n",
    "\n",
    "             \n",
    "    test_loss /= len(test_loader.dataset)\n",
    "    test_losses.append(test_loss)\n",
    "    test_accuracy.append(100*correct/len(test_loader.dataset)) \n",
    "    print('\\nTest set: Average loss: {:.4f}, Accuracy: {}/{} ({:.2f}%)\\n'.format(\n",
    "        test_loss, correct, len(test_loader.dataset),\n",
    "        100. * correct / len(test_loader.dataset)))"
   ]
  },
  {
   "cell_type": "code",
   "execution_count": 11,
   "metadata": {},
   "outputs": [
    {
     "name": "stdout",
     "output_type": "stream",
     "text": [
      "\n",
      "Epoch:  1\n"
     ]
    },
    {
     "name": "stderr",
     "output_type": "stream",
     "text": [
      "  0%|                                                                                          | 0/469 [00:00<?, ?it/s]c:\\users\\ktgan\\appdata\\local\\programs\\python\\python36\\lib\\site-packages\\ipykernel_launcher.py:26: UserWarning: Implicit dimension choice for log_softmax has been deprecated. Change the call to include dim=X as an argument.\n",
      "loss=0.07893072813749313 batch_id=468 Accuracy = 90.91: 100%|████████████████████████| 469/469 [00:18<00:00, 24.74it/s]\n"
     ]
    },
    {
     "name": "stdout",
     "output_type": "stream",
     "text": [
      "\n",
      "Train set: Average loss: 0.3072, Accuracy: 54543/60000 (90.91%)\n",
      "\n",
      "Test set: Average loss: 0.0607, Accuracy: 9822/10000 (98.22%)\n",
      "\n",
      "\n",
      "Epoch:  2\n"
     ]
    },
    {
     "name": "stderr",
     "output_type": "stream",
     "text": [
      "loss=0.038249026983976364 batch_id=468 Accuracy = 98.36: 100%|███████████████████████| 469/469 [00:16<00:00, 28.13it/s]\n"
     ]
    },
    {
     "name": "stdout",
     "output_type": "stream",
     "text": [
      "\n",
      "Train set: Average loss: 0.0544, Accuracy: 59015/60000 (98.36%)\n",
      "\n",
      "Test set: Average loss: 0.0494, Accuracy: 9848/10000 (98.48%)\n",
      "\n",
      "\n",
      "Epoch:  3\n"
     ]
    },
    {
     "name": "stderr",
     "output_type": "stream",
     "text": [
      "loss=0.05760137736797333 batch_id=468 Accuracy = 98.77: 100%|████████████████████████| 469/469 [00:17<00:00, 26.63it/s]\n"
     ]
    },
    {
     "name": "stdout",
     "output_type": "stream",
     "text": [
      "\n",
      "Train set: Average loss: 0.0406, Accuracy: 59263/60000 (98.77%)\n",
      "\n",
      "Test set: Average loss: 0.0382, Accuracy: 9872/10000 (98.72%)\n",
      "\n",
      "\n",
      "Epoch:  4\n"
     ]
    },
    {
     "name": "stderr",
     "output_type": "stream",
     "text": [
      "loss=0.04126375541090965 batch_id=468 Accuracy = 99.01: 100%|████████████████████████| 469/469 [00:17<00:00, 27.41it/s]\n"
     ]
    },
    {
     "name": "stdout",
     "output_type": "stream",
     "text": [
      "\n",
      "Train set: Average loss: 0.0327, Accuracy: 59405/60000 (99.01%)\n",
      "\n",
      "Test set: Average loss: 0.0335, Accuracy: 9893/10000 (98.93%)\n",
      "\n",
      "\n",
      "Epoch:  5\n"
     ]
    },
    {
     "name": "stderr",
     "output_type": "stream",
     "text": [
      "loss=0.01706545054912567 batch_id=468 Accuracy = 99.18: 100%|████████████████████████| 469/469 [00:16<00:00, 28.78it/s]\n"
     ]
    },
    {
     "name": "stdout",
     "output_type": "stream",
     "text": [
      "\n",
      "Train set: Average loss: 0.0282, Accuracy: 59507/60000 (99.18%)\n",
      "\n",
      "Test set: Average loss: 0.0297, Accuracy: 9890/10000 (98.90%)\n",
      "\n",
      "\n",
      "Epoch:  6\n"
     ]
    },
    {
     "name": "stderr",
     "output_type": "stream",
     "text": [
      "loss=0.007015526294708252 batch_id=468 Accuracy = 99.26: 100%|███████████████████████| 469/469 [00:16<00:00, 28.55it/s]\n"
     ]
    },
    {
     "name": "stdout",
     "output_type": "stream",
     "text": [
      "\n",
      "Train set: Average loss: 0.0238, Accuracy: 59558/60000 (99.26%)\n",
      "\n",
      "Test set: Average loss: 0.0307, Accuracy: 9893/10000 (98.93%)\n",
      "\n",
      "\n",
      "Epoch:  7\n"
     ]
    },
    {
     "name": "stderr",
     "output_type": "stream",
     "text": [
      "loss=0.011597405187785625 batch_id=468 Accuracy = 99.35: 100%|███████████████████████| 469/469 [00:16<00:00, 27.90it/s]\n"
     ]
    },
    {
     "name": "stdout",
     "output_type": "stream",
     "text": [
      "\n",
      "Train set: Average loss: 0.0217, Accuracy: 59608/60000 (99.35%)\n",
      "\n",
      "Test set: Average loss: 0.0361, Accuracy: 9887/10000 (98.87%)\n",
      "\n",
      "\n",
      "Epoch:  8\n"
     ]
    },
    {
     "name": "stderr",
     "output_type": "stream",
     "text": [
      "loss=0.027849486097693443 batch_id=468 Accuracy = 99.46: 100%|███████████████████████| 469/469 [00:15<00:00, 29.70it/s]\n"
     ]
    },
    {
     "name": "stdout",
     "output_type": "stream",
     "text": [
      "\n",
      "Train set: Average loss: 0.0190, Accuracy: 59678/60000 (99.46%)\n",
      "\n",
      "Test set: Average loss: 0.0300, Accuracy: 9898/10000 (98.98%)\n",
      "\n",
      "\n",
      "Epoch:  9\n"
     ]
    },
    {
     "name": "stderr",
     "output_type": "stream",
     "text": [
      "loss=0.030954187735915184 batch_id=468 Accuracy = 99.45: 100%|███████████████████████| 469/469 [00:16<00:00, 27.81it/s]\n"
     ]
    },
    {
     "name": "stdout",
     "output_type": "stream",
     "text": [
      "\n",
      "Train set: Average loss: 0.0175, Accuracy: 59673/60000 (99.45%)\n",
      "\n",
      "Test set: Average loss: 0.0298, Accuracy: 9896/10000 (98.96%)\n",
      "\n",
      "\n",
      "Epoch:  10\n"
     ]
    },
    {
     "name": "stderr",
     "output_type": "stream",
     "text": [
      "loss=0.0012194415321573615 batch_id=468 Accuracy = 99.58: 100%|██████████████████████| 469/469 [00:17<00:00, 27.23it/s]\n"
     ]
    },
    {
     "name": "stdout",
     "output_type": "stream",
     "text": [
      "\n",
      "Train set: Average loss: 0.0150, Accuracy: 59748/60000 (99.58%)\n",
      "\n",
      "Test set: Average loss: 0.0292, Accuracy: 9902/10000 (99.02%)\n",
      "\n",
      "\n",
      "Epoch:  11\n"
     ]
    },
    {
     "name": "stderr",
     "output_type": "stream",
     "text": [
      "loss=0.0021917622070759535 batch_id=468 Accuracy = 99.61: 100%|██████████████████████| 469/469 [00:16<00:00, 28.37it/s]\n"
     ]
    },
    {
     "name": "stdout",
     "output_type": "stream",
     "text": [
      "\n",
      "Train set: Average loss: 0.0136, Accuracy: 59766/60000 (99.61%)\n",
      "\n",
      "Test set: Average loss: 0.0288, Accuracy: 9901/10000 (99.01%)\n",
      "\n",
      "\n",
      "Epoch:  12\n"
     ]
    },
    {
     "name": "stderr",
     "output_type": "stream",
     "text": [
      "loss=0.010825772769749165 batch_id=468 Accuracy = 99.63: 100%|███████████████████████| 469/469 [00:16<00:00, 28.17it/s]\n"
     ]
    },
    {
     "name": "stdout",
     "output_type": "stream",
     "text": [
      "\n",
      "Train set: Average loss: 0.0130, Accuracy: 59777/60000 (99.63%)\n",
      "\n",
      "Test set: Average loss: 0.0263, Accuracy: 9912/10000 (99.12%)\n",
      "\n",
      "\n",
      "Epoch:  13\n"
     ]
    },
    {
     "name": "stderr",
     "output_type": "stream",
     "text": [
      "loss=0.005186805967241526 batch_id=468 Accuracy = 99.72: 100%|███████████████████████| 469/469 [00:17<00:00, 26.73it/s]\n"
     ]
    },
    {
     "name": "stdout",
     "output_type": "stream",
     "text": [
      "\n",
      "Train set: Average loss: 0.0111, Accuracy: 59831/60000 (99.72%)\n",
      "\n",
      "Test set: Average loss: 0.0298, Accuracy: 9897/10000 (98.97%)\n",
      "\n",
      "\n",
      "Epoch:  14\n"
     ]
    },
    {
     "name": "stderr",
     "output_type": "stream",
     "text": [
      "loss=0.007485071662813425 batch_id=468 Accuracy = 99.75: 100%|███████████████████████| 469/469 [00:18<00:00, 25.04it/s]\n"
     ]
    },
    {
     "name": "stdout",
     "output_type": "stream",
     "text": [
      "\n",
      "Train set: Average loss: 0.0097, Accuracy: 59848/60000 (99.75%)\n",
      "\n",
      "Test set: Average loss: 0.0255, Accuracy: 9916/10000 (99.16%)\n",
      "\n",
      "\n",
      "Epoch:  15\n"
     ]
    },
    {
     "name": "stderr",
     "output_type": "stream",
     "text": [
      "loss=0.002009014366194606 batch_id=468 Accuracy = 99.75: 100%|███████████████████████| 469/469 [00:16<00:00, 29.29it/s]\n"
     ]
    },
    {
     "name": "stdout",
     "output_type": "stream",
     "text": [
      "\n",
      "Train set: Average loss: 0.0091, Accuracy: 59849/60000 (99.75%)\n",
      "\n",
      "Test set: Average loss: 0.0272, Accuracy: 9915/10000 (99.15%)\n",
      "\n"
     ]
    }
   ],
   "source": [
    "model = Net().to(device)\n",
    "optimizer = optim.SGD(model.parameters(), lr=0.01, momentum=0.9)\n",
    "EPOCHS = 15\n",
    "for epoch in range(EPOCHS):\n",
    "    print(\"\\nEpoch: \",epoch+1)\n",
    "    train(model, device, train_loader, optimizer, epoch)\n",
    "    test(model, device, test_loader)"
   ]
  },
  {
   "cell_type": "code",
   "execution_count": 12,
   "metadata": {},
   "outputs": [
    {
     "data": {
      "text/plain": [
       "Text(0.5, 1.0, 'Test_Accuracy')"
      ]
     },
     "execution_count": 12,
     "metadata": {},
     "output_type": "execute_result"
    },
    {
     "data": {
      "image/png": "[encoded data removed]",
      "text/plain": [
       "<Figure size 1080x1440 with 4 Axes>"
      ]
     },
     "metadata": {
      "needs_background": "light"
     },
     "output_type": "display_data"
    }
   ],
   "source": [
    "import matplotlib.pyplot as plt\n",
    "%matplotlib inline\n",
    "fig, ax = plt.subplots(2,2,figsize=(15,20))\n",
    "ax[0,0].plot(train_losses)\n",
    "ax[0,0].set_title('Train_Losses')\n",
    "ax[0,1].plot(train_accuracy)\n",
    "ax[0,1].set_title('Train_Accuracy')\n",
    "\n",
    "ax[1,0].plot(test_losses)\n",
    "ax[1,0].set_title('Test_Losses')\n",
    "ax[1,1].plot(test_accuracy)\n",
    "ax[1,1].set_title('Test_Accuracy')"
   ]
  },
  {
   "cell_type": "code",
   "execution_count": null,
   "metadata": {},
   "outputs": [],
   "source": []
  }
 ],
 "metadata": {
  "kernelspec": {
   "display_name": "Python 3",
   "language": "python",
   "name": "python3"
  },
  "language_info": {
   "codemirror_mode": {
    "name": "ipython",
    "version": 3
   },
   "file_extension": ".py",
   "mimetype": "text/x-python",
   "name": "python",
   "nbconvert_exporter": "python",
   "pygments_lexer": "ipython3",
   "version": "3.6.8"
  }
 },
 "nbformat": 4,
 "nbformat_minor": 2
}
