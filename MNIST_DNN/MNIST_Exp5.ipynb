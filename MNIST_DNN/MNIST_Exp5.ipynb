{
 "cells": [
  {
   "cell_type": "markdown",
   "metadata": {},
   "source": [
    "Target: Add batch normalization to increase efficiency <br>\n",
    "\n",
    "Results: <br>\n",
    "Parameters: 8,680 (<10K) <br> <br>\n",
    "Best Training Accuracy: 99.75 <br>\n",
    "Best Test Accuracy: 99.15 <br>\n",
    "\n",
    "Analysis: <br>\n",
    "Good model, train, test accuracy increased over previous experiment <br>"
   ]
  },
  {
   "cell_type": "code",
   "execution_count": 1,
   "metadata": {},
   "outputs": [
    {
     "name": "stdout",
     "output_type": "stream",
     "text": [
      "Requirement already satisfied: torchsummary in c:\\users\\ktgan\\appdata\\local\\programs\\python\\python36\\lib\\site-packages (1.5.1)\n"
     ]
    },
    {
     "name": "stderr",
     "output_type": "stream",
     "text": [
      "WARNING: pip is being invoked by an old script wrapper. This will fail in a future version of pip.\n",
      "Please see https://github.com/pypa/pip/issues/5599 for advice on fixing the underlying issue.\n",
      "To avoid this problem you can invoke Python with '-m pip' instead of running pip directly.\n"
     ]
    }
   ],
   "source": [
    "!pip install torchsummary"
   ]
  },
  {
   "cell_type": "code",
   "execution_count": 2,
   "metadata": {},
   "outputs": [],
   "source": [
    "from __future__ import print_function\n",
    "import torch\n",
    "import torch.nn as nn\n",
    "import torch.nn.functional as F\n",
    "import torch.optim as optim\n",
    "from torchvision import datasets, transforms\n",
    "from torchsummary import summary"
   ]
  },
  {
   "cell_type": "code",
   "execution_count": 3,
   "metadata": {},
   "outputs": [
    {
     "data": {
      "text/plain": [
       "device(type='cuda')"
      ]
     },
     "execution_count": 3,
     "metadata": {},
     "output_type": "execute_result"
    }
   ],
   "source": [
    "use_cuda = torch.cuda.is_available()\n",
    "device = torch.device(\"cuda\" if use_cuda else \"cpu\")\n",
    "device"
   ]
  },
  {
   "cell_type": "code",
   "execution_count": 4,
   "metadata": {},
   "outputs": [],
   "source": [
    "torch.manual_seed(1)\n",
    "batch_size = 128\n",
    "\n",
    "kwargs = {'num_workers': 1, 'pin_memory': True} if use_cuda else {}\n",
    "train_loader = torch.utils.data.DataLoader(\n",
    "    datasets.MNIST('../data', train=True, download=True,\n",
    "                    transform=transforms.Compose([\n",
    "                        transforms.ToTensor(),\n",
    "                        transforms.Normalize((0.1307,), (0.3081,))\n",
    "                    ])),\n",
    "    batch_size=batch_size, shuffle=True, **kwargs)\n",
    "test_loader = torch.utils.data.DataLoader(\n",
    "    datasets.MNIST('../data', train=False, transform=transforms.Compose([\n",
    "                        transforms.ToTensor(),\n",
    "                        transforms.Normalize((0.1307,), (0.3081,))\n",
    "                    ])),\n",
    "    batch_size=batch_size, shuffle=True, **kwargs)\n"
   ]
  },
  {
   "cell_type": "code",
   "execution_count": 14,
   "metadata": {},
   "outputs": [],
   "source": [
    "class Net(nn.Module):\n",
    "    def __init__(self):\n",
    "        super(Net, self).__init__()\n",
    "        self.conv1 = nn.Conv2d(1, 10, 3, padding=1) #input -28 Output- 26 RF 3\n",
    "        self.b1c1 = nn.BatchNorm2d(10)\n",
    "        self.conv2 = nn.Conv2d(10, 20, 1, padding=0)\n",
    "        self.b2c2 = nn.BatchNorm2d(20)\n",
    "        self.pool1 = nn.MaxPool2d(2, 2)\n",
    "        self.conv3 = nn.Conv2d(20, 20, 1, padding=0)\n",
    "        self.b3c3 = nn.BatchNorm2d(20)\n",
    "        self.conv4 = nn.Conv2d(20, 20, 3, padding=1)\n",
    "        self.b4c4 = nn.BatchNorm2d(20)\n",
    "        self.pool2 = nn.MaxPool2d(2, 2)\n",
    "        #self.pool2 = nn.AdaptiveAvgPool2d(7)\n",
    "        self.conv5 = nn.Conv2d(20, 10, 3)\n",
    "        self.b5c5 = nn.BatchNorm2d(10)\n",
    "        self.conv6 = nn.Conv2d(10, 10, 5)\n",
    "        #self.conv7 = nn.Conv2d(32, 10, 3)\n",
    "\n",
    "    def forward(self, x):\n",
    "        x = (F.relu(self.b2c2(self.conv2(F.relu(self.b1c1(self.conv1(x)))))))\n",
    "        x = nn.Dropout(0.25)(x) \n",
    "        x = self.pool1(x)       \n",
    "        x = (F.relu(self.b4c4(self.conv4(F.relu(self.b3c3(self.conv3(x)))))))\n",
    "        x = self.pool2(x)\n",
    "        #x = nn.Dropout(0.25)(x)        \n",
    "        x = F.relu(self.conv6(F.relu(self.b5c5(self.conv5(x)))))\n",
    "        #x = F.relu(self.conv7(x))\n",
    "        x = x.view(-1, 10)\n",
    "        return F.log_softmax(x)"
   ]
  },
  {
   "cell_type": "code",
   "execution_count": 15,
   "metadata": {},
   "outputs": [
    {
     "name": "stderr",
     "output_type": "stream",
     "text": [
      "c:\\users\\ktgan\\appdata\\local\\programs\\python\\python36\\lib\\site-packages\\ipykernel_launcher.py:30: UserWarning: Implicit dimension choice for log_softmax has been deprecated. Change the call to include dim=X as an argument.\n"
     ]
    },
    {
     "name": "stdout",
     "output_type": "stream",
     "text": [
      "----------------------------------------------------------------\n",
      "        Layer (type)               Output Shape         Param #\n",
      "================================================================\n",
      "            Conv2d-1           [-1, 10, 28, 28]             100\n",
      "       BatchNorm2d-2           [-1, 10, 28, 28]              20\n",
      "            Conv2d-3           [-1, 20, 28, 28]             220\n",
      "       BatchNorm2d-4           [-1, 20, 28, 28]              40\n",
      "         MaxPool2d-5           [-1, 20, 14, 14]               0\n",
      "            Conv2d-6           [-1, 20, 14, 14]             420\n",
      "       BatchNorm2d-7           [-1, 20, 14, 14]              40\n",
      "            Conv2d-8           [-1, 20, 14, 14]           3,620\n",
      "       BatchNorm2d-9           [-1, 20, 14, 14]              40\n",
      "        MaxPool2d-10             [-1, 20, 7, 7]               0\n",
      "           Conv2d-11             [-1, 10, 5, 5]           1,810\n",
      "      BatchNorm2d-12             [-1, 10, 5, 5]              20\n",
      "           Conv2d-13             [-1, 10, 1, 1]           2,510\n",
      "================================================================\n",
      "Total params: 8,840\n",
      "Trainable params: 8,840\n",
      "Non-trainable params: 0\n",
      "----------------------------------------------------------------\n",
      "Input size (MB): 0.00\n",
      "Forward/backward pass size (MB): 0.52\n",
      "Params size (MB): 0.03\n",
      "Estimated Total Size (MB): 0.56\n",
      "----------------------------------------------------------------\n"
     ]
    }
   ],
   "source": [
    "model = Net().to(device)\n",
    "summary(model, input_size=(1, 28, 28))"
   ]
  },
  {
   "cell_type": "code",
   "execution_count": 16,
   "metadata": {},
   "outputs": [],
   "source": [
    "from tqdm import tqdm\n",
    "train_losses = []\n",
    "test_losses = []\n",
    "train_accuracy = []\n",
    "test_accuracy = []\n",
    "def train(model, device, train_loader, optimizer, epoch):\n",
    "    model.train()\n",
    "    train_loss = 0\n",
    "    correct = 0\n",
    "    processed = 0\n",
    "    pbar = tqdm(train_loader)\n",
    "    for batch_idx, (data, target) in enumerate(pbar):\n",
    "        data, target = data.to(device), target.to(device)\n",
    "        optimizer.zero_grad()\n",
    "        output = model(data)\n",
    "        loss = F.nll_loss(output, target)\n",
    "        loss.backward()\n",
    "        optimizer.step()\n",
    "        train_loss += F.nll_loss(output, target, reduction='sum').item()  # sum up batch loss\n",
    "        pred = output.argmax(dim=1, keepdim=True)  # get the index of the max log-probability\n",
    "        correct += pred.eq(target.view_as(pred)).sum().item()\n",
    "        processed += len(data)\n",
    "        train_losses.append(loss)\n",
    "        pbar.set_description(desc= f'loss={loss.item()} batch_id={batch_idx} Accuracy = {100*correct/processed:0.2f}')\n",
    "\n",
    "    train_loss /= len(train_loader.dataset)\n",
    "    train_accuracy.append(100*correct/len(train_loader.dataset))\n",
    "\n",
    "    print('\\nTrain set: Average loss: {:.4f}, Accuracy: {}/{} ({:.2f}%)'.format(\n",
    "        train_loss, correct, len(train_loader.dataset),\n",
    "        100. * correct / len(train_loader.dataset)))\n",
    "\n",
    "def test(model, device, test_loader):\n",
    "    model.eval()\n",
    "    test_loss = 0\n",
    "    correct = 0\n",
    "    processed = 0\n",
    "    with torch.no_grad():\n",
    "        for data, target in test_loader:\n",
    "            data, target = data.to(device), target.to(device)\n",
    "            output = model(data)\n",
    "            test_loss += F.nll_loss(output, target, reduction='sum').item()  # sum up batch loss\n",
    "            pred = output.argmax(dim=1, keepdim=True)  # get the index of the max log-probability\n",
    "            correct += pred.eq(target.view_as(pred)).sum().item()\n",
    "            processed += len(data)\n",
    "\n",
    "             \n",
    "    test_loss /= len(test_loader.dataset)\n",
    "    test_losses.append(test_loss)\n",
    "    test_accuracy.append(100*correct/len(test_loader.dataset)) \n",
    "    print('\\nTest set: Average loss: {:.4f}, Accuracy: {}/{} ({:.2f}%)\\n'.format(\n",
    "        test_loss, correct, len(test_loader.dataset),\n",
    "        100. * correct / len(test_loader.dataset)))"
   ]
  },
  {
   "cell_type": "code",
   "execution_count": 17,
   "metadata": {},
   "outputs": [
    {
     "name": "stdout",
     "output_type": "stream",
     "text": [
      "\n",
      "Epoch:  1\n"
     ]
    },
    {
     "name": "stderr",
     "output_type": "stream",
     "text": [
      "  0%|                                                                                          | 0/469 [00:00<?, ?it/s]c:\\users\\ktgan\\appdata\\local\\programs\\python\\python36\\lib\\site-packages\\ipykernel_launcher.py:30: UserWarning: Implicit dimension choice for log_softmax has been deprecated. Change the call to include dim=X as an argument.\n",
      "loss=0.04521368816494942 batch_id=468 Accuracy = 86.14: 100%|████████████████████████| 469/469 [00:18<00:00, 26.01it/s]\n"
     ]
    },
    {
     "name": "stdout",
     "output_type": "stream",
     "text": [
      "\n",
      "Train set: Average loss: 0.4325, Accuracy: 51681/60000 (86.14%)\n",
      "\n",
      "Test set: Average loss: 0.0738, Accuracy: 9770/10000 (97.70%)\n",
      "\n",
      "\n",
      "Epoch:  2\n"
     ]
    },
    {
     "name": "stderr",
     "output_type": "stream",
     "text": [
      "loss=0.032749004662036896 batch_id=468 Accuracy = 98.03: 100%|███████████████████████| 469/469 [00:17<00:00, 27.46it/s]\n"
     ]
    },
    {
     "name": "stdout",
     "output_type": "stream",
     "text": [
      "\n",
      "Train set: Average loss: 0.0656, Accuracy: 58818/60000 (98.03%)\n",
      "\n",
      "Test set: Average loss: 0.0500, Accuracy: 9854/10000 (98.54%)\n",
      "\n",
      "\n",
      "Epoch:  3\n"
     ]
    },
    {
     "name": "stderr",
     "output_type": "stream",
     "text": [
      "loss=0.023279016837477684 batch_id=468 Accuracy = 98.55: 100%|███████████████████████| 469/469 [00:16<00:00, 27.90it/s]\n"
     ]
    },
    {
     "name": "stdout",
     "output_type": "stream",
     "text": [
      "\n",
      "Train set: Average loss: 0.0494, Accuracy: 59127/60000 (98.55%)\n",
      "\n",
      "Test set: Average loss: 0.0376, Accuracy: 9886/10000 (98.86%)\n",
      "\n",
      "\n",
      "Epoch:  4\n"
     ]
    },
    {
     "name": "stderr",
     "output_type": "stream",
     "text": [
      "loss=0.019877443090081215 batch_id=468 Accuracy = 98.69: 100%|███████████████████████| 469/469 [00:17<00:00, 26.71it/s]\n"
     ]
    },
    {
     "name": "stdout",
     "output_type": "stream",
     "text": [
      "\n",
      "Train set: Average loss: 0.0414, Accuracy: 59215/60000 (98.69%)\n",
      "\n",
      "Test set: Average loss: 0.0373, Accuracy: 9880/10000 (98.80%)\n",
      "\n",
      "\n",
      "Epoch:  5\n"
     ]
    },
    {
     "name": "stderr",
     "output_type": "stream",
     "text": [
      "loss=0.06875503808259964 batch_id=468 Accuracy = 98.87: 100%|████████████████████████| 469/469 [00:16<00:00, 28.37it/s]\n"
     ]
    },
    {
     "name": "stdout",
     "output_type": "stream",
     "text": [
      "\n",
      "Train set: Average loss: 0.0363, Accuracy: 59324/60000 (98.87%)\n",
      "\n",
      "Test set: Average loss: 0.0315, Accuracy: 9901/10000 (99.01%)\n",
      "\n",
      "\n",
      "Epoch:  6\n"
     ]
    },
    {
     "name": "stderr",
     "output_type": "stream",
     "text": [
      "loss=0.032682955265045166 batch_id=468 Accuracy = 98.98: 100%|███████████████████████| 469/469 [00:17<00:00, 27.09it/s]\n"
     ]
    },
    {
     "name": "stdout",
     "output_type": "stream",
     "text": [
      "\n",
      "Train set: Average loss: 0.0322, Accuracy: 59387/60000 (98.98%)\n",
      "\n",
      "Test set: Average loss: 0.0324, Accuracy: 9894/10000 (98.94%)\n",
      "\n",
      "\n",
      "Epoch:  7\n"
     ]
    },
    {
     "name": "stderr",
     "output_type": "stream",
     "text": [
      "loss=0.03234188258647919 batch_id=468 Accuracy = 99.07: 100%|████████████████████████| 469/469 [00:15<00:00, 30.07it/s]\n"
     ]
    },
    {
     "name": "stdout",
     "output_type": "stream",
     "text": [
      "\n",
      "Train set: Average loss: 0.0300, Accuracy: 59442/60000 (99.07%)\n",
      "\n",
      "Test set: Average loss: 0.0383, Accuracy: 9882/10000 (98.82%)\n",
      "\n",
      "\n",
      "Epoch:  8\n"
     ]
    },
    {
     "name": "stderr",
     "output_type": "stream",
     "text": [
      "loss=0.055612076073884964 batch_id=468 Accuracy = 99.12: 100%|███████████████████████| 469/469 [00:17<00:00, 26.94it/s]\n"
     ]
    },
    {
     "name": "stdout",
     "output_type": "stream",
     "text": [
      "\n",
      "Train set: Average loss: 0.0276, Accuracy: 59471/60000 (99.12%)\n",
      "\n",
      "Test set: Average loss: 0.0295, Accuracy: 9903/10000 (99.03%)\n",
      "\n",
      "\n",
      "Epoch:  9\n"
     ]
    },
    {
     "name": "stderr",
     "output_type": "stream",
     "text": [
      "loss=0.008439312689006329 batch_id=468 Accuracy = 99.21: 100%|███████████████████████| 469/469 [00:16<00:00, 29.26it/s]\n"
     ]
    },
    {
     "name": "stdout",
     "output_type": "stream",
     "text": [
      "\n",
      "Train set: Average loss: 0.0246, Accuracy: 59525/60000 (99.21%)\n",
      "\n",
      "Test set: Average loss: 0.0316, Accuracy: 9905/10000 (99.05%)\n",
      "\n",
      "\n",
      "Epoch:  10\n"
     ]
    },
    {
     "name": "stderr",
     "output_type": "stream",
     "text": [
      "loss=0.021251747384667397 batch_id=468 Accuracy = 99.33: 100%|███████████████████████| 469/469 [00:15<00:00, 30.32it/s]\n"
     ]
    },
    {
     "name": "stdout",
     "output_type": "stream",
     "text": [
      "\n",
      "Train set: Average loss: 0.0224, Accuracy: 59596/60000 (99.33%)\n",
      "\n",
      "Test set: Average loss: 0.0290, Accuracy: 9908/10000 (99.08%)\n",
      "\n",
      "\n",
      "Epoch:  11\n"
     ]
    },
    {
     "name": "stderr",
     "output_type": "stream",
     "text": [
      "loss=0.04655633494257927 batch_id=468 Accuracy = 99.33: 100%|████████████████████████| 469/469 [00:15<00:00, 31.11it/s]\n"
     ]
    },
    {
     "name": "stdout",
     "output_type": "stream",
     "text": [
      "\n",
      "Train set: Average loss: 0.0219, Accuracy: 59596/60000 (99.33%)\n",
      "\n",
      "Test set: Average loss: 0.0328, Accuracy: 9887/10000 (98.87%)\n",
      "\n",
      "\n",
      "Epoch:  12\n"
     ]
    },
    {
     "name": "stderr",
     "output_type": "stream",
     "text": [
      "loss=0.02240697480738163 batch_id=468 Accuracy = 99.35: 100%|████████████████████████| 469/469 [00:17<00:00, 26.09it/s]\n"
     ]
    },
    {
     "name": "stdout",
     "output_type": "stream",
     "text": [
      "\n",
      "Train set: Average loss: 0.0201, Accuracy: 59610/60000 (99.35%)\n",
      "\n",
      "Test set: Average loss: 0.0320, Accuracy: 9898/10000 (98.98%)\n",
      "\n",
      "\n",
      "Epoch:  13\n"
     ]
    },
    {
     "name": "stderr",
     "output_type": "stream",
     "text": [
      "loss=0.021684417501091957 batch_id=468 Accuracy = 99.41: 100%|███████████████████████| 469/469 [00:16<00:00, 28.12it/s]\n"
     ]
    },
    {
     "name": "stdout",
     "output_type": "stream",
     "text": [
      "\n",
      "Train set: Average loss: 0.0186, Accuracy: 59646/60000 (99.41%)\n",
      "\n",
      "Test set: Average loss: 0.0305, Accuracy: 9895/10000 (98.95%)\n",
      "\n",
      "\n",
      "Epoch:  14\n"
     ]
    },
    {
     "name": "stderr",
     "output_type": "stream",
     "text": [
      "loss=0.03761805593967438 batch_id=468 Accuracy = 99.45: 100%|████████████████████████| 469/469 [00:17<00:00, 26.99it/s]\n"
     ]
    },
    {
     "name": "stdout",
     "output_type": "stream",
     "text": [
      "\n",
      "Train set: Average loss: 0.0177, Accuracy: 59671/60000 (99.45%)\n",
      "\n",
      "Test set: Average loss: 0.0291, Accuracy: 9899/10000 (98.99%)\n",
      "\n",
      "\n",
      "Epoch:  15\n"
     ]
    },
    {
     "name": "stderr",
     "output_type": "stream",
     "text": [
      "loss=0.012834002263844013 batch_id=468 Accuracy = 99.44: 100%|███████████████████████| 469/469 [00:17<00:00, 26.54it/s]\n"
     ]
    },
    {
     "name": "stdout",
     "output_type": "stream",
     "text": [
      "\n",
      "Train set: Average loss: 0.0169, Accuracy: 59661/60000 (99.44%)\n",
      "\n",
      "Test set: Average loss: 0.0307, Accuracy: 9901/10000 (99.01%)\n",
      "\n"
     ]
    }
   ],
   "source": [
    "model = Net().to(device)\n",
    "optimizer = optim.SGD(model.parameters(), lr=0.01, momentum=0.9)\n",
    "EPOCHS = 15\n",
    "for epoch in range(EPOCHS):\n",
    "    print(\"\\nEpoch: \",epoch+1)\n",
    "    train(model, device, train_loader, optimizer, epoch)\n",
    "    test(model, device, test_loader)"
   ]
  },
  {
   "cell_type": "code",
   "execution_count": 9,
   "metadata": {},
   "outputs": [
    {
     "data": {
      "text/plain": [
       "Text(0.5, 1.0, 'Test_Accuracy')"
      ]
     },
     "execution_count": 9,
     "metadata": {},
     "output_type": "execute_result"
    },
    {
     "data": {
      "image/png": "[encoded data removed]",
      "text/plain": [
       "<Figure size 1080x1440 with 4 Axes>"
      ]
     },
     "metadata": {
      "needs_background": "light"
     },
     "output_type": "display_data"
    }
   ],
   "source": [
    "import matplotlib.pyplot as plt\n",
    "%matplotlib inline\n",
    "fig, ax = plt.subplots(2,2,figsize=(15,20))\n",
    "ax[0,0].plot(train_losses)\n",
    "ax[0,0].set_title('Train_Losses')\n",
    "ax[0,1].plot(train_accuracy)\n",
    "ax[0,1].set_title('Train_Accuracy')\n",
    "\n",
    "ax[1,0].plot(test_losses)\n",
    "ax[1,0].set_title('Test_Losses')\n",
    "ax[1,1].plot(test_accuracy)\n",
    "ax[1,1].set_title('Test_Accuracy')"
   ]
  },
  {
   "cell_type": "code",
   "execution_count": null,
   "metadata": {},
   "outputs": [],
   "source": []
  }
 ],
 "metadata": {
  "kernelspec": {
   "display_name": "Python 3",
   "language": "python",
   "name": "python3"
  },
  "language_info": {
   "codemirror_mode": {
    "name": "ipython",
    "version": 3
   },
   "file_extension": ".py",
   "mimetype": "text/x-python",
   "name": "python",
   "nbconvert_exporter": "python",
   "pygments_lexer": "ipython3",
   "version": "3.6.8"
  }
 },
 "nbformat": 4,
 "nbformat_minor": 2
}
