{
 "cells": [
  {
   "cell_type": "markdown",
   "metadata": {},
   "source": [
    "Target: Reduce parameters still further <br>\n",
    "\n",
    "Results: <br>\n",
    "Parameters: 8,680 (<10K) <br> <br>\n",
    "Best Training Accuracy: 99.03 <br>\n",
    "Best Test Accuracy: 98.92 <br>\n",
    "\n",
    "Analysis: <br>\n",
    "Good model, (test)accuracy is slightly increased over previous experiment (compared to 14.5K model) <br>\n",
    "Can still be pushed further for accuracy, no over-fitting  <br>"
   ]
  },
  {
   "cell_type": "code",
   "execution_count": 2,
   "metadata": {},
   "outputs": [
    {
     "name": "stdout",
     "output_type": "stream",
     "text": [
      "Requirement already satisfied: torchsummary in c:\\users\\ktgan\\appdata\\local\\programs\\python\\python36\\lib\\site-packages (1.5.1)\n"
     ]
    },
    {
     "name": "stderr",
     "output_type": "stream",
     "text": [
      "WARNING: pip is being invoked by an old script wrapper. This will fail in a future version of pip.\n",
      "Please see https://github.com/pypa/pip/issues/5599 for advice on fixing the underlying issue.\n",
      "To avoid this problem you can invoke Python with '-m pip' instead of running pip directly.\n"
     ]
    }
   ],
   "source": [
    "!pip install torchsummary"
   ]
  },
  {
   "cell_type": "code",
   "execution_count": 3,
   "metadata": {},
   "outputs": [],
   "source": [
    "from __future__ import print_function\n",
    "import torch\n",
    "import torch.nn as nn\n",
    "import torch.nn.functional as F\n",
    "import torch.optim as optim\n",
    "from torchvision import datasets, transforms\n",
    "from torchsummary import summary"
   ]
  },
  {
   "cell_type": "code",
   "execution_count": 4,
   "metadata": {},
   "outputs": [
    {
     "data": {
      "text/plain": [
       "device(type='cuda')"
      ]
     },
     "execution_count": 4,
     "metadata": {},
     "output_type": "execute_result"
    }
   ],
   "source": [
    "use_cuda = torch.cuda.is_available()\n",
    "device = torch.device(\"cuda\" if use_cuda else \"cpu\")\n",
    "device"
   ]
  },
  {
   "cell_type": "code",
   "execution_count": 5,
   "metadata": {},
   "outputs": [],
   "source": [
    "torch.manual_seed(1)\n",
    "batch_size = 128\n",
    "\n",
    "kwargs = {'num_workers': 1, 'pin_memory': True} if use_cuda else {}\n",
    "train_loader = torch.utils.data.DataLoader(\n",
    "    datasets.MNIST('../data', train=True, download=True,\n",
    "                    transform=transforms.Compose([\n",
    "                        transforms.ToTensor(),\n",
    "                        transforms.Normalize((0.1307,), (0.3081,))\n",
    "                    ])),\n",
    "    batch_size=batch_size, shuffle=True, **kwargs)\n",
    "test_loader = torch.utils.data.DataLoader(\n",
    "    datasets.MNIST('../data', train=False, transform=transforms.Compose([\n",
    "                        transforms.ToTensor(),\n",
    "                        transforms.Normalize((0.1307,), (0.3081,))\n",
    "                    ])),\n",
    "    batch_size=batch_size, shuffle=True, **kwargs)\n"
   ]
  },
  {
   "cell_type": "code",
   "execution_count": 6,
   "metadata": {},
   "outputs": [],
   "source": [
    "class Net(nn.Module):\n",
    "    def __init__(self):\n",
    "        super(Net, self).__init__()\n",
    "        self.conv1 = nn.Conv2d(1, 10, 3, padding=1) #input -28 Output- 26 RF 3\n",
    "        self.conv2 = nn.Conv2d(10, 20, 1, padding=0)\n",
    "        self.pool1 = nn.MaxPool2d(2, 2)\n",
    "        self.conv3 = nn.Conv2d(20, 20, 1, padding=0)\n",
    "        self.conv4 = nn.Conv2d(20, 20, 3, padding=1)\n",
    "        self.pool2 = nn.MaxPool2d(2, 2)\n",
    "        #self.pool2 = nn.AdaptiveAvgPool2d(7)\n",
    "        self.conv5 = nn.Conv2d(20, 10, 3)\n",
    "        self.conv6 = nn.Conv2d(10, 10, 5)\n",
    "        #self.conv7 = nn.Conv2d(32, 10, 3)\n",
    "\n",
    "    def forward(self, x):\n",
    "        x = self.pool1(F.relu(self.conv2(F.relu(self.conv1(x)))))\n",
    "        x = self.pool2(F.relu(self.conv4(F.relu(self.conv3(x)))))\n",
    "        x = F.relu(self.conv6(F.relu(self.conv5(x))))\n",
    "        #x = F.relu(self.conv7(x))\n",
    "        x = x.view(-1, 10)\n",
    "        return F.log_softmax(x)"
   ]
  },
  {
   "cell_type": "code",
   "execution_count": 7,
   "metadata": {},
   "outputs": [
    {
     "name": "stderr",
     "output_type": "stream",
     "text": [
      "c:\\users\\ktgan\\appdata\\local\\programs\\python\\python36\\lib\\site-packages\\ipykernel_launcher.py:21: UserWarning: Implicit dimension choice for log_softmax has been deprecated. Change the call to include dim=X as an argument.\n"
     ]
    },
    {
     "name": "stdout",
     "output_type": "stream",
     "text": [
      "----------------------------------------------------------------\n",
      "        Layer (type)               Output Shape         Param #\n",
      "================================================================\n",
      "            Conv2d-1           [-1, 10, 28, 28]             100\n",
      "            Conv2d-2           [-1, 20, 28, 28]             220\n",
      "         MaxPool2d-3           [-1, 20, 14, 14]               0\n",
      "            Conv2d-4           [-1, 20, 14, 14]             420\n",
      "            Conv2d-5           [-1, 20, 14, 14]           3,620\n",
      "         MaxPool2d-6             [-1, 20, 7, 7]               0\n",
      "            Conv2d-7             [-1, 10, 5, 5]           1,810\n",
      "            Conv2d-8             [-1, 10, 1, 1]           2,510\n",
      "================================================================\n",
      "Total params: 8,680\n",
      "Trainable params: 8,680\n",
      "Non-trainable params: 0\n",
      "----------------------------------------------------------------\n",
      "Input size (MB): 0.00\n",
      "Forward/backward pass size (MB): 0.28\n",
      "Params size (MB): 0.03\n",
      "Estimated Total Size (MB): 0.31\n",
      "----------------------------------------------------------------\n"
     ]
    }
   ],
   "source": [
    "model = Net().to(device)\n",
    "summary(model, input_size=(1, 28, 28))"
   ]
  },
  {
   "cell_type": "code",
   "execution_count": 8,
   "metadata": {},
   "outputs": [],
   "source": [
    "from tqdm import tqdm\n",
    "train_losses = []\n",
    "test_losses = []\n",
    "train_accuracy = []\n",
    "test_accuracy = []\n",
    "def train(model, device, train_loader, optimizer, epoch):\n",
    "    model.train()\n",
    "    train_loss = 0\n",
    "    correct = 0\n",
    "    processed = 0\n",
    "    pbar = tqdm(train_loader)\n",
    "    for batch_idx, (data, target) in enumerate(pbar):\n",
    "        data, target = data.to(device), target.to(device)\n",
    "        optimizer.zero_grad()\n",
    "        output = model(data)\n",
    "        loss = F.nll_loss(output, target)\n",
    "        loss.backward()\n",
    "        optimizer.step()\n",
    "        train_loss += F.nll_loss(output, target, reduction='sum').item()  # sum up batch loss\n",
    "        pred = output.argmax(dim=1, keepdim=True)  # get the index of the max log-probability\n",
    "        correct += pred.eq(target.view_as(pred)).sum().item()\n",
    "        processed += len(data)\n",
    "        train_losses.append(loss)\n",
    "        pbar.set_description(desc= f'loss={loss.item()} batch_id={batch_idx} Accuracy = {100*correct/processed:0.2f}')\n",
    "\n",
    "    train_loss /= len(train_loader.dataset)\n",
    "    train_accuracy.append(100*correct/len(train_loader.dataset))\n",
    "\n",
    "    print('\\nTrain set: Average loss: {:.4f}, Accuracy: {}/{} ({:.2f}%)'.format(\n",
    "        train_loss, correct, len(train_loader.dataset),\n",
    "        100. * correct / len(train_loader.dataset)))\n",
    "\n",
    "def test(model, device, test_loader):\n",
    "    model.eval()\n",
    "    test_loss = 0\n",
    "    correct = 0\n",
    "    processed = 0\n",
    "    with torch.no_grad():\n",
    "        for data, target in test_loader:\n",
    "            data, target = data.to(device), target.to(device)\n",
    "            output = model(data)\n",
    "            test_loss += F.nll_loss(output, target, reduction='sum').item()  # sum up batch loss\n",
    "            pred = output.argmax(dim=1, keepdim=True)  # get the index of the max log-probability\n",
    "            correct += pred.eq(target.view_as(pred)).sum().item()\n",
    "            processed += len(data)\n",
    "\n",
    "             \n",
    "    test_loss /= len(test_loader.dataset)\n",
    "    test_losses.append(test_loss)\n",
    "    test_accuracy.append(100*correct/len(test_loader.dataset)) \n",
    "    print('\\nTest set: Average loss: {:.4f}, Accuracy: {}/{} ({:.2f}%)\\n'.format(\n",
    "        test_loss, correct, len(test_loader.dataset),\n",
    "        100. * correct / len(test_loader.dataset)))"
   ]
  },
  {
   "cell_type": "code",
   "execution_count": 9,
   "metadata": {},
   "outputs": [
    {
     "name": "stdout",
     "output_type": "stream",
     "text": [
      "\n",
      "Epoch:  1\n"
     ]
    },
    {
     "name": "stderr",
     "output_type": "stream",
     "text": [
      "  0%|                                                                                          | 0/469 [00:00<?, ?it/s]c:\\users\\ktgan\\appdata\\local\\programs\\python\\python36\\lib\\site-packages\\ipykernel_launcher.py:21: UserWarning: Implicit dimension choice for log_softmax has been deprecated. Change the call to include dim=X as an argument.\n",
      "loss=0.4027739465236664 batch_id=468 Accuracy = 50.11: 100%|█████████████████████████| 469/469 [00:21<00:00, 22.21it/s]\n"
     ]
    },
    {
     "name": "stdout",
     "output_type": "stream",
     "text": [
      "\n",
      "Train set: Average loss: 1.3752, Accuracy: 30064/60000 (50.11%)\n",
      "\n",
      "Test set: Average loss: 0.6192, Accuracy: 7698/10000 (76.98%)\n",
      "\n",
      "\n",
      "Epoch:  2\n"
     ]
    },
    {
     "name": "stderr",
     "output_type": "stream",
     "text": [
      "loss=0.5785444974899292 batch_id=468 Accuracy = 77.51: 100%|█████████████████████████| 469/469 [00:15<00:00, 30.93it/s]\n"
     ]
    },
    {
     "name": "stdout",
     "output_type": "stream",
     "text": [
      "\n",
      "Train set: Average loss: 0.5868, Accuracy: 46508/60000 (77.51%)\n",
      "\n",
      "Test set: Average loss: 0.5449, Accuracy: 7825/10000 (78.25%)\n",
      "\n",
      "\n",
      "Epoch:  3\n"
     ]
    },
    {
     "name": "stderr",
     "output_type": "stream",
     "text": [
      "loss=0.47481250762939453 batch_id=468 Accuracy = 78.14: 100%|████████████████████████| 469/469 [00:15<00:00, 30.57it/s]\n"
     ]
    },
    {
     "name": "stdout",
     "output_type": "stream",
     "text": [
      "\n",
      "Train set: Average loss: 0.5521, Accuracy: 46884/60000 (78.14%)\n",
      "\n",
      "Test set: Average loss: 0.5420, Accuracy: 7824/10000 (78.24%)\n",
      "\n",
      "\n",
      "Epoch:  4\n"
     ]
    },
    {
     "name": "stderr",
     "output_type": "stream",
     "text": [
      "loss=0.604930579662323 batch_id=468 Accuracy = 78.48: 100%|██████████████████████████| 469/469 [00:15<00:00, 30.34it/s]\n"
     ]
    },
    {
     "name": "stdout",
     "output_type": "stream",
     "text": [
      "\n",
      "Train set: Average loss: 0.5347, Accuracy: 47086/60000 (78.48%)\n",
      "\n",
      "Test set: Average loss: 0.5215, Accuracy: 7867/10000 (78.67%)\n",
      "\n",
      "\n",
      "Epoch:  5\n"
     ]
    },
    {
     "name": "stderr",
     "output_type": "stream",
     "text": [
      "loss=0.5232145190238953 batch_id=468 Accuracy = 78.67: 100%|█████████████████████████| 469/469 [00:15<00:00, 30.79it/s]\n"
     ]
    },
    {
     "name": "stdout",
     "output_type": "stream",
     "text": [
      "\n",
      "Train set: Average loss: 0.5244, Accuracy: 47199/60000 (78.67%)\n",
      "\n",
      "Test set: Average loss: 0.5273, Accuracy: 7860/10000 (78.60%)\n",
      "\n",
      "\n",
      "Epoch:  6\n"
     ]
    },
    {
     "name": "stderr",
     "output_type": "stream",
     "text": [
      "loss=0.587389349937439 batch_id=468 Accuracy = 78.87: 100%|██████████████████████████| 469/469 [00:15<00:00, 30.79it/s]\n"
     ]
    },
    {
     "name": "stdout",
     "output_type": "stream",
     "text": [
      "\n",
      "Train set: Average loss: 0.5166, Accuracy: 47323/60000 (78.87%)\n",
      "\n",
      "Test set: Average loss: 0.5122, Accuracy: 7886/10000 (78.86%)\n",
      "\n",
      "\n",
      "Epoch:  7\n"
     ]
    },
    {
     "name": "stderr",
     "output_type": "stream",
     "text": [
      "loss=0.3656478822231293 batch_id=468 Accuracy = 78.95: 100%|█████████████████████████| 469/469 [00:15<00:00, 30.22it/s]\n"
     ]
    },
    {
     "name": "stdout",
     "output_type": "stream",
     "text": [
      "\n",
      "Train set: Average loss: 0.5108, Accuracy: 47373/60000 (78.95%)\n",
      "\n",
      "Test set: Average loss: 0.5049, Accuracy: 7904/10000 (79.04%)\n",
      "\n",
      "\n",
      "Epoch:  8\n"
     ]
    },
    {
     "name": "stderr",
     "output_type": "stream",
     "text": [
      "loss=0.3950099050998688 batch_id=468 Accuracy = 79.02: 100%|█████████████████████████| 469/469 [00:15<00:00, 31.20it/s]\n"
     ]
    },
    {
     "name": "stdout",
     "output_type": "stream",
     "text": [
      "\n",
      "Train set: Average loss: 0.5070, Accuracy: 47414/60000 (79.02%)\n",
      "\n",
      "Test set: Average loss: 0.5152, Accuracy: 7888/10000 (78.88%)\n",
      "\n",
      "\n",
      "Epoch:  9\n"
     ]
    },
    {
     "name": "stderr",
     "output_type": "stream",
     "text": [
      "loss=0.5372762084007263 batch_id=468 Accuracy = 79.05: 100%|█████████████████████████| 469/469 [00:14<00:00, 31.47it/s]\n"
     ]
    },
    {
     "name": "stdout",
     "output_type": "stream",
     "text": [
      "\n",
      "Train set: Average loss: 0.5040, Accuracy: 47427/60000 (79.05%)\n",
      "\n",
      "Test set: Average loss: 0.5111, Accuracy: 7892/10000 (78.92%)\n",
      "\n",
      "\n",
      "Epoch:  10\n"
     ]
    },
    {
     "name": "stderr",
     "output_type": "stream",
     "text": [
      "loss=0.44709324836730957 batch_id=468 Accuracy = 79.14: 100%|████████████████████████| 469/469 [00:15<00:00, 30.86it/s]\n"
     ]
    },
    {
     "name": "stdout",
     "output_type": "stream",
     "text": [
      "\n",
      "Train set: Average loss: 0.5002, Accuracy: 47487/60000 (79.14%)\n",
      "\n",
      "Test set: Average loss: 0.5051, Accuracy: 7888/10000 (78.88%)\n",
      "\n",
      "\n",
      "Epoch:  11\n"
     ]
    },
    {
     "name": "stderr",
     "output_type": "stream",
     "text": [
      "loss=0.17461544275283813 batch_id=468 Accuracy = 85.19: 100%|████████████████████████| 469/469 [00:18<00:00, 25.87it/s]\n"
     ]
    },
    {
     "name": "stdout",
     "output_type": "stream",
     "text": [
      "\n",
      "Train set: Average loss: 0.3627, Accuracy: 51114/60000 (85.19%)\n",
      "\n",
      "Test set: Average loss: 0.2791, Accuracy: 8876/10000 (88.76%)\n",
      "\n",
      "\n",
      "Epoch:  12\n"
     ]
    },
    {
     "name": "stderr",
     "output_type": "stream",
     "text": [
      "loss=0.40115058422088623 batch_id=468 Accuracy = 89.22: 100%|████████████████████████| 469/469 [00:17<00:00, 26.82it/s]\n"
     ]
    },
    {
     "name": "stdout",
     "output_type": "stream",
     "text": [
      "\n",
      "Train set: Average loss: 0.2654, Accuracy: 53531/60000 (89.22%)\n",
      "\n",
      "Test set: Average loss: 0.2682, Accuracy: 8903/10000 (89.03%)\n",
      "\n",
      "\n",
      "Epoch:  13\n"
     ]
    },
    {
     "name": "stderr",
     "output_type": "stream",
     "text": [
      "loss=0.001243655919097364 batch_id=468 Accuracy = 97.90: 100%|███████████████████████| 469/469 [00:15<00:00, 29.32it/s]\n"
     ]
    },
    {
     "name": "stdout",
     "output_type": "stream",
     "text": [
      "\n",
      "Train set: Average loss: 0.0620, Accuracy: 58738/60000 (97.90%)\n",
      "\n",
      "Test set: Average loss: 0.0406, Accuracy: 9879/10000 (98.79%)\n",
      "\n",
      "\n",
      "Epoch:  14\n"
     ]
    },
    {
     "name": "stderr",
     "output_type": "stream",
     "text": [
      "loss=0.0032577861566096544 batch_id=468 Accuracy = 98.95: 100%|██████████████████████| 469/469 [00:16<00:00, 28.48it/s]\n"
     ]
    },
    {
     "name": "stdout",
     "output_type": "stream",
     "text": [
      "\n",
      "Train set: Average loss: 0.0340, Accuracy: 59371/60000 (98.95%)\n",
      "\n",
      "Test set: Average loss: 0.0418, Accuracy: 9869/10000 (98.69%)\n",
      "\n",
      "\n",
      "Epoch:  15\n"
     ]
    },
    {
     "name": "stderr",
     "output_type": "stream",
     "text": [
      "loss=0.0045438953675329685 batch_id=468 Accuracy = 99.03: 100%|██████████████████████| 469/469 [00:16<00:00, 29.18it/s]\n"
     ]
    },
    {
     "name": "stdout",
     "output_type": "stream",
     "text": [
      "\n",
      "Train set: Average loss: 0.0318, Accuracy: 59416/60000 (99.03%)\n",
      "\n",
      "Test set: Average loss: 0.0346, Accuracy: 9892/10000 (98.92%)\n",
      "\n"
     ]
    }
   ],
   "source": [
    "model = Net().to(device)\n",
    "optimizer = optim.SGD(model.parameters(), lr=0.01, momentum=0.9)\n",
    "EPOCHS = 15\n",
    "for epoch in range(EPOCHS):\n",
    "    print(\"\\nEpoch: \",epoch+1)\n",
    "    train(model, device, train_loader, optimizer, epoch)\n",
    "    test(model, device, test_loader)"
   ]
  },
  {
   "cell_type": "code",
   "execution_count": 10,
   "metadata": {},
   "outputs": [
    {
     "data": {
      "text/plain": [
       "Text(0.5, 1.0, 'Test_Accuracy')"
      ]
     },
     "execution_count": 10,
     "metadata": {},
     "output_type": "execute_result"
    },
    {
     "data": {
      "image/png": "[encoded data removed]",
      "text/plain": [
       "<Figure size 1080x1440 with 4 Axes>"
      ]
     },
     "metadata": {
      "needs_background": "light"
     },
     "output_type": "display_data"
    }
   ],
   "source": [
    "import matplotlib.pyplot as plt\n",
    "%matplotlib inline\n",
    "fig, ax = plt.subplots(2,2,figsize=(15,20))\n",
    "ax[0,0].plot(train_losses)\n",
    "ax[0,0].set_title('Train_Losses')\n",
    "ax[0,1].plot(train_accuracy)\n",
    "ax[0,1].set_title('Train_Accuracy')\n",
    "\n",
    "ax[1,0].plot(test_losses)\n",
    "ax[1,0].set_title('Test_Losses')\n",
    "ax[1,1].plot(test_accuracy)\n",
    "ax[1,1].set_title('Test_Accuracy')"
   ]
  },
  {
   "cell_type": "code",
   "execution_count": null,
   "metadata": {},
   "outputs": [],
   "source": []
  }
 ],
 "metadata": {
  "kernelspec": {
   "display_name": "Python 3",
   "language": "python",
   "name": "python3"
  },
  "language_info": {
   "codemirror_mode": {
    "name": "ipython",
    "version": 3
   },
   "file_extension": ".py",
   "mimetype": "text/x-python",
   "name": "python",
   "nbconvert_exporter": "python",
   "pygments_lexer": "ipython3",
   "version": "3.6.8"
  }
 },
 "nbformat": 4,
 "nbformat_minor": 2
}
