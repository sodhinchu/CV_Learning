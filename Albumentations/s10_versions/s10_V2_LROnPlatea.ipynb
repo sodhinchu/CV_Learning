{
  "nbformat": 4,
  "nbformat_minor": 0,
  "metadata": {
    "accelerator": "GPU",
    "colab": {
      "name": "s10_V2_LROnPlatea.ipynb",
      "provenance": [],
      "collapsed_sections": []
    },
    "kernelspec": {
      "display_name": "Python 3",
      "language": "python",
      "name": "python3"
    },
    "language_info": {
      "codemirror_mode": {
        "name": "ipython",
        "version": 3
      },
      "file_extension": ".py",
      "mimetype": "text/x-python",
      "name": "python",
      "nbconvert_exporter": "python",
      "pygments_lexer": "ipython3",
      "version": "3.6.8"
    },
    "widgets": {
      "application/vnd.jupyter.widget-state+json": {
        "097c5d1963344f65abd2d83bf6a03b82": {
          "model_module": "@jupyter-widgets/controls",
          "model_name": "HBoxModel",
          "state": {
            "_view_name": "HBoxView",
            "_dom_classes": [],
            "_model_name": "HBoxModel",
            "_view_module": "@jupyter-widgets/controls",
            "_model_module_version": "1.5.0",
            "_view_count": null,
            "_view_module_version": "1.5.0",
            "box_style": "",
            "layout": "IPY_MODEL_cf5116b5607c46f3a95d1edd3577479a",
            "_model_module": "@jupyter-widgets/controls",
            "children": [
              "IPY_MODEL_f04f887f98de4cc4bdc79333d79ddda8",
              "IPY_MODEL_006934b5fe6f4f669046cae8a646a943"
            ]
          }
        },
        "cf5116b5607c46f3a95d1edd3577479a": {
          "model_module": "@jupyter-widgets/base",
          "model_name": "LayoutModel",
          "state": {
            "_view_name": "LayoutView",
            "grid_template_rows": null,
            "right": null,
            "justify_content": null,
            "_view_module": "@jupyter-widgets/base",
            "overflow": null,
            "_model_module_version": "1.2.0",
            "_view_count": null,
            "flex_flow": null,
            "width": null,
            "min_width": null,
            "border": null,
            "align_items": null,
            "bottom": null,
            "_model_module": "@jupyter-widgets/base",
            "top": null,
            "grid_column": null,
            "overflow_y": null,
            "overflow_x": null,
            "grid_auto_flow": null,
            "grid_area": null,
            "grid_template_columns": null,
            "flex": null,
            "_model_name": "LayoutModel",
            "justify_items": null,
            "grid_row": null,
            "max_height": null,
            "align_content": null,
            "visibility": null,
            "align_self": null,
            "height": null,
            "min_height": null,
            "padding": null,
            "grid_auto_rows": null,
            "grid_gap": null,
            "max_width": null,
            "order": null,
            "_view_module_version": "1.2.0",
            "grid_template_areas": null,
            "object_position": null,
            "object_fit": null,
            "grid_auto_columns": null,
            "margin": null,
            "display": null,
            "left": null
          }
        },
        "f04f887f98de4cc4bdc79333d79ddda8": {
          "model_module": "@jupyter-widgets/controls",
          "model_name": "FloatProgressModel",
          "state": {
            "_view_name": "ProgressView",
            "style": "IPY_MODEL_21fdbec13ca7477c9e6f67c6d65c951d",
            "_dom_classes": [],
            "description": " 91%",
            "_model_name": "FloatProgressModel",
            "bar_style": "danger",
            "max": 100,
            "_view_module": "@jupyter-widgets/controls",
            "_model_module_version": "1.5.0",
            "value": 91,
            "_view_count": null,
            "_view_module_version": "1.5.0",
            "orientation": "horizontal",
            "min": 0,
            "description_tooltip": null,
            "_model_module": "@jupyter-widgets/controls",
            "layout": "IPY_MODEL_d597bde54bbf4c74a78b61908df1a196"
          }
        },
        "006934b5fe6f4f669046cae8a646a943": {
          "model_module": "@jupyter-widgets/controls",
          "model_name": "HTMLModel",
          "state": {
            "_view_name": "HTMLView",
            "style": "IPY_MODEL_fdfb6b0374c5415c96a986aa9d75f10f",
            "_dom_classes": [],
            "description": "",
            "_model_name": "HTMLModel",
            "placeholder": "​",
            "_view_module": "@jupyter-widgets/controls",
            "_model_module_version": "1.5.0",
            "value": " 91/100 [00:03&lt;00:00, 24.90it/s]",
            "_view_count": null,
            "_view_module_version": "1.5.0",
            "description_tooltip": null,
            "_model_module": "@jupyter-widgets/controls",
            "layout": "IPY_MODEL_ed48ba6c117d4cdd8aad8dd52af5a0ab"
          }
        },
        "21fdbec13ca7477c9e6f67c6d65c951d": {
          "model_module": "@jupyter-widgets/controls",
          "model_name": "ProgressStyleModel",
          "state": {
            "_view_name": "StyleView",
            "_model_name": "ProgressStyleModel",
            "description_width": "initial",
            "_view_module": "@jupyter-widgets/base",
            "_model_module_version": "1.5.0",
            "_view_count": null,
            "_view_module_version": "1.2.0",
            "bar_color": null,
            "_model_module": "@jupyter-widgets/controls"
          }
        },
        "d597bde54bbf4c74a78b61908df1a196": {
          "model_module": "@jupyter-widgets/base",
          "model_name": "LayoutModel",
          "state": {
            "_view_name": "LayoutView",
            "grid_template_rows": null,
            "right": null,
            "justify_content": null,
            "_view_module": "@jupyter-widgets/base",
            "overflow": null,
            "_model_module_version": "1.2.0",
            "_view_count": null,
            "flex_flow": null,
            "width": null,
            "min_width": null,
            "border": null,
            "align_items": null,
            "bottom": null,
            "_model_module": "@jupyter-widgets/base",
            "top": null,
            "grid_column": null,
            "overflow_y": null,
            "overflow_x": null,
            "grid_auto_flow": null,
            "grid_area": null,
            "grid_template_columns": null,
            "flex": null,
            "_model_name": "LayoutModel",
            "justify_items": null,
            "grid_row": null,
            "max_height": null,
            "align_content": null,
            "visibility": null,
            "align_self": null,
            "height": null,
            "min_height": null,
            "padding": null,
            "grid_auto_rows": null,
            "grid_gap": null,
            "max_width": null,
            "order": null,
            "_view_module_version": "1.2.0",
            "grid_template_areas": null,
            "object_position": null,
            "object_fit": null,
            "grid_auto_columns": null,
            "margin": null,
            "display": null,
            "left": null
          }
        },
        "fdfb6b0374c5415c96a986aa9d75f10f": {
          "model_module": "@jupyter-widgets/controls",
          "model_name": "DescriptionStyleModel",
          "state": {
            "_view_name": "StyleView",
            "_model_name": "DescriptionStyleModel",
            "description_width": "",
            "_view_module": "@jupyter-widgets/base",
            "_model_module_version": "1.5.0",
            "_view_count": null,
            "_view_module_version": "1.2.0",
            "_model_module": "@jupyter-widgets/controls"
          }
        },
        "ed48ba6c117d4cdd8aad8dd52af5a0ab": {
          "model_module": "@jupyter-widgets/base",
          "model_name": "LayoutModel",
          "state": {
            "_view_name": "LayoutView",
            "grid_template_rows": null,
            "right": null,
            "justify_content": null,
            "_view_module": "@jupyter-widgets/base",
            "overflow": null,
            "_model_module_version": "1.2.0",
            "_view_count": null,
            "flex_flow": null,
            "width": null,
            "min_width": null,
            "border": null,
            "align_items": null,
            "bottom": null,
            "_model_module": "@jupyter-widgets/base",
            "top": null,
            "grid_column": null,
            "overflow_y": null,
            "overflow_x": null,
            "grid_auto_flow": null,
            "grid_area": null,
            "grid_template_columns": null,
            "flex": null,
            "_model_name": "LayoutModel",
            "justify_items": null,
            "grid_row": null,
            "max_height": null,
            "align_content": null,
            "visibility": null,
            "align_self": null,
            "height": null,
            "min_height": null,
            "padding": null,
            "grid_auto_rows": null,
            "grid_gap": null,
            "max_width": null,
            "order": null,
            "_view_module_version": "1.2.0",
            "grid_template_areas": null,
            "object_position": null,
            "object_fit": null,
            "grid_auto_columns": null,
            "margin": null,
            "display": null,
            "left": null
          }
        }
      }
    }
  },
  "cells": [
    {
      "cell_type": "code",
      "metadata": {
        "colab_type": "code",
        "id": "KJpNl6FoeTxv",
        "colab": {}
      },
      "source": [
        "import torch\n",
        "from torchsummary import summary\n",
        "import torch.nn as nn\n",
        "import torch.optim as optim\n",
        "import torch.nn.functional as F\n",
        "import torch.backends.cudnn as cudnn\n",
        "\n",
        "import torchvision\n",
        "import torchvision.transforms as transforms\n",
        "\n",
        "#from albumentations.pytorch import ToTensor"
      ],
      "execution_count": 1,
      "outputs": []
    },
    {
      "cell_type": "code",
      "metadata": {
        "colab_type": "code",
        "id": "e1RY05iVeTx8",
        "colab": {}
      },
      "source": [
        "import numpy as np\n",
        "import matplotlib.pyplot as plt"
      ],
      "execution_count": 2,
      "outputs": []
    },
    {
      "cell_type": "code",
      "metadata": {
        "colab_type": "code",
        "id": "xkCehQ3JeTyJ",
        "colab": {}
      },
      "source": [
        "from AlbumentationTransforms import AlbumentationTransform\n",
        "from dataloader import getDataLoader\n",
        "from models import resnet18\n",
        "#import train"
      ],
      "execution_count": 3,
      "outputs": []
    },
    {
      "cell_type": "code",
      "metadata": {
        "colab_type": "code",
        "id": "A1FQvdIMeTyU",
        "colab": {}
      },
      "source": [
        "if(torch.cuda.is_available):\n",
        "    device = 'cuda'\n",
        "else:\n",
        "    device = 'cpu'"
      ],
      "execution_count": 4,
      "outputs": []
    },
    {
      "cell_type": "code",
      "metadata": {
        "colab_type": "code",
        "id": "tPebz5UUeTys",
        "colab": {}
      },
      "source": [
        "import albumentations as AL\n",
        "import albumentations.pytorch as AT"
      ],
      "execution_count": 5,
      "outputs": []
    },
    {
      "cell_type": "code",
      "metadata": {
        "colab_type": "code",
        "id": "FwullZCBeTy6",
        "colab": {}
      },
      "source": [
        "train_transform = AlbumentationTransform([\n",
        "                                       AL.RandomCrop(32, 32),\n",
        "                                       AL.Rotate((-30.0, 30.0)),\n",
        "                                       AL.HorizontalFlip(p=0.5),\n",
        "                                       AL.RandomBrightness(),\n",
        "                                       AL.RGBShift(r_shift_limit=50, g_shift_limit=50, b_shift_limit=50, p=0.5),\n",
        "                                       AL.Normalize(mean=(0.5, 0.5, 0.5), std=(0.5, 0.5, 0.5)),\n",
        "                                       AL.Cutout(num_holes=1, max_h_size=16, max_w_size = 16, p=1),\n",
        "                                       AT.ToTensor()\n",
        "                                       ])\n",
        "# Test Phase transformations\n",
        "test_transform = AlbumentationTransform([AL.Normalize(mean=(0.5, 0.5, 0.5), std=(0.5, 0.5, 0.5)), AT.ToTensor()])"
      ],
      "execution_count": 6,
      "outputs": []
    },
    {
      "cell_type": "code",
      "metadata": {
        "colab_type": "code",
        "id": "V6jGgZnpeTzD",
        "colab": {
          "base_uri": "https://localhost:8080/",
          "height": 35
        },
        "outputId": "670f58fa-2be0-44d8-f582-45781288c63d"
      },
      "source": [
        "trainloader, testloader = getDataLoader('CIFAR10', 32, train_transform, test_transform)"
      ],
      "execution_count": 7,
      "outputs": [
        {
          "output_type": "stream",
          "text": [
            "Files already downloaded and verified\n"
          ],
          "name": "stdout"
        }
      ]
    },
    {
      "cell_type": "code",
      "metadata": {
        "colab_type": "code",
        "id": "9UsHgM27eTzT",
        "colab": {}
      },
      "source": [
        "classes = ('plane', 'car', 'bird', 'cat',\n",
        "           'deer', 'dog', 'frog', 'horse', 'ship', 'truck')"
      ],
      "execution_count": 8,
      "outputs": []
    },
    {
      "cell_type": "code",
      "metadata": {
        "colab_type": "code",
        "id": "y9JuCK6SeTzf",
        "colab": {}
      },
      "source": [
        "def imshow(img):\n",
        "    img = img / 2 + 0.5     # unnormalize\n",
        "    npimg = img.numpy()\n",
        "    plt.imshow(np.transpose(npimg, (1, 2, 0)))\n",
        "    plt.show()"
      ],
      "execution_count": 9,
      "outputs": []
    },
    {
      "cell_type": "code",
      "metadata": {
        "colab_type": "code",
        "id": "rMq6lXrTeTzl",
        "colab": {}
      },
      "source": [
        "dataiter = iter(trainloader)\n",
        "images, labels = dataiter.next()"
      ],
      "execution_count": 10,
      "outputs": []
    },
    {
      "cell_type": "code",
      "metadata": {
        "colab_type": "code",
        "id": "FlFLx8NDeTzr",
        "colab": {
          "base_uri": "https://localhost:8080/",
          "height": 156
        },
        "outputId": "e3966f60-724e-4855-fef4-4391f743559b"
      },
      "source": [
        "# show images\n",
        "imshow(torchvision.utils.make_grid(images[:4]))\n",
        "# print labels\n",
        "print(' '.join('%5s' % classes[labels[j]] for j in range(4)))"
      ],
      "execution_count": 11,
      "outputs": [
        {
          "output_type": "display_data",
          "data": {
            "image/png": "[encoded data removed]",
            "text/plain": [
              "<Figure size 432x288 with 1 Axes>"
            ]
          },
          "metadata": {
            "tags": [],
            "needs_background": "light"
          }
        },
        {
          "output_type": "stream",
          "text": [
            "plane   car  bird   cat\n"
          ],
          "name": "stdout"
        }
      ]
    },
    {
      "cell_type": "code",
      "metadata": {
        "colab_type": "code",
        "id": "Igfg99g_eTzx",
        "colab": {}
      },
      "source": [
        "dataiter = iter(testloader)\n",
        "images, labels = dataiter.next()"
      ],
      "execution_count": 12,
      "outputs": []
    },
    {
      "cell_type": "code",
      "metadata": {
        "colab_type": "code",
        "id": "BAwtHpOCeTz3",
        "colab": {
          "base_uri": "https://localhost:8080/",
          "height": 156
        },
        "outputId": "8c4ab1ca-65a7-4b16-8703-b2c0effef685"
      },
      "source": [
        "# show images\n",
        "imshow(torchvision.utils.make_grid(images[:4]))\n",
        "# print labels\n",
        "print(' '.join('%5s' % classes[labels[j]] for j in range(4)))"
      ],
      "execution_count": 13,
      "outputs": [
        {
          "output_type": "display_data",
          "data": {
            "image/png": "[encoded data removed]",
            "text/plain": [
              "<Figure size 432x288 with 1 Axes>"
            ]
          },
          "metadata": {
            "tags": [],
            "needs_background": "light"
          }
        },
        {
          "output_type": "stream",
          "text": [
            " bird  bird  bird  bird\n"
          ],
          "name": "stdout"
        }
      ]
    },
    {
      "cell_type": "code",
      "metadata": {
        "colab_type": "code",
        "id": "fQwDmmwmeTz9",
        "colab": {}
      },
      "source": [
        "net = resnet18.ResNet18()"
      ],
      "execution_count": 14,
      "outputs": []
    },
    {
      "cell_type": "code",
      "metadata": {
        "colab_type": "code",
        "id": "fjCPQY36eT0F",
        "colab": {}
      },
      "source": [
        "net = net.to(device)"
      ],
      "execution_count": 15,
      "outputs": []
    },
    {
      "cell_type": "code",
      "metadata": {
        "colab_type": "code",
        "id": "PE0YEx3DeT0S",
        "colab": {
          "base_uri": "https://localhost:8080/",
          "height": 1000
        },
        "outputId": "24aca7e6-2d12-47c3-b35f-31750187b3f7"
      },
      "source": [
        "summary(net, input_size=(3, 32, 32))"
      ],
      "execution_count": 16,
      "outputs": [
        {
          "output_type": "stream",
          "text": [
            "----------------------------------------------------------------\n",
            "        Layer (type)               Output Shape         Param #\n",
            "================================================================\n",
            "            Conv2d-1           [-1, 64, 32, 32]           1,728\n",
            "       BatchNorm2d-2           [-1, 64, 32, 32]             128\n",
            "            Conv2d-3           [-1, 64, 32, 32]          36,864\n",
            "       BatchNorm2d-4           [-1, 64, 32, 32]             128\n",
            "            Conv2d-5           [-1, 64, 32, 32]          36,864\n",
            "       BatchNorm2d-6           [-1, 64, 32, 32]             128\n",
            "        BasicBlock-7           [-1, 64, 32, 32]               0\n",
            "            Conv2d-8           [-1, 64, 32, 32]          36,864\n",
            "       BatchNorm2d-9           [-1, 64, 32, 32]             128\n",
            "           Conv2d-10           [-1, 64, 32, 32]          36,864\n",
            "      BatchNorm2d-11           [-1, 64, 32, 32]             128\n",
            "       BasicBlock-12           [-1, 64, 32, 32]               0\n",
            "           Conv2d-13          [-1, 128, 16, 16]          73,728\n",
            "      BatchNorm2d-14          [-1, 128, 16, 16]             256\n",
            "           Conv2d-15          [-1, 128, 16, 16]         147,456\n",
            "      BatchNorm2d-16          [-1, 128, 16, 16]             256\n",
            "           Conv2d-17          [-1, 128, 16, 16]           8,192\n",
            "      BatchNorm2d-18          [-1, 128, 16, 16]             256\n",
            "       BasicBlock-19          [-1, 128, 16, 16]               0\n",
            "           Conv2d-20          [-1, 128, 16, 16]         147,456\n",
            "      BatchNorm2d-21          [-1, 128, 16, 16]             256\n",
            "           Conv2d-22          [-1, 128, 16, 16]         147,456\n",
            "      BatchNorm2d-23          [-1, 128, 16, 16]             256\n",
            "       BasicBlock-24          [-1, 128, 16, 16]               0\n",
            "           Conv2d-25            [-1, 256, 8, 8]         294,912\n",
            "      BatchNorm2d-26            [-1, 256, 8, 8]             512\n",
            "           Conv2d-27            [-1, 256, 8, 8]         589,824\n",
            "      BatchNorm2d-28            [-1, 256, 8, 8]             512\n",
            "           Conv2d-29            [-1, 256, 8, 8]          32,768\n",
            "      BatchNorm2d-30            [-1, 256, 8, 8]             512\n",
            "       BasicBlock-31            [-1, 256, 8, 8]               0\n",
            "           Conv2d-32            [-1, 256, 8, 8]         589,824\n",
            "      BatchNorm2d-33            [-1, 256, 8, 8]             512\n",
            "           Conv2d-34            [-1, 256, 8, 8]         589,824\n",
            "      BatchNorm2d-35            [-1, 256, 8, 8]             512\n",
            "       BasicBlock-36            [-1, 256, 8, 8]               0\n",
            "           Conv2d-37            [-1, 512, 4, 4]       1,179,648\n",
            "      BatchNorm2d-38            [-1, 512, 4, 4]           1,024\n",
            "           Conv2d-39            [-1, 512, 4, 4]       2,359,296\n",
            "      BatchNorm2d-40            [-1, 512, 4, 4]           1,024\n",
            "           Conv2d-41            [-1, 512, 4, 4]         131,072\n",
            "      BatchNorm2d-42            [-1, 512, 4, 4]           1,024\n",
            "       BasicBlock-43            [-1, 512, 4, 4]               0\n",
            "           Conv2d-44            [-1, 512, 4, 4]       2,359,296\n",
            "      BatchNorm2d-45            [-1, 512, 4, 4]           1,024\n",
            "           Conv2d-46            [-1, 512, 4, 4]       2,359,296\n",
            "      BatchNorm2d-47            [-1, 512, 4, 4]           1,024\n",
            "       BasicBlock-48            [-1, 512, 4, 4]               0\n",
            "           Linear-49                   [-1, 10]           5,130\n",
            "================================================================\n",
            "Total params: 11,173,962\n",
            "Trainable params: 11,173,962\n",
            "Non-trainable params: 0\n",
            "----------------------------------------------------------------\n",
            "Input size (MB): 0.01\n",
            "Forward/backward pass size (MB): 11.25\n",
            "Params size (MB): 42.63\n",
            "Estimated Total Size (MB): 53.89\n",
            "----------------------------------------------------------------\n"
          ],
          "name": "stdout"
        }
      ]
    },
    {
      "cell_type": "code",
      "metadata": {
        "id": "4IwkvcdlqTqs",
        "colab_type": "code",
        "colab": {}
      },
      "source": [
        "from lr_finder import LRFinder\n",
        "import torch.nn as nn\n",
        "import torch.optim as optim\n",
        "from torch.optim.lr_scheduler import StepLR"
      ],
      "execution_count": 17,
      "outputs": []
    },
    {
      "cell_type": "code",
      "metadata": {
        "colab_type": "code",
        "id": "vEnXxfPbeT0L",
        "colab": {
          "base_uri": "https://localhost:8080/",
          "height": 370,
          "referenced_widgets": [
            "097c5d1963344f65abd2d83bf6a03b82",
            "cf5116b5607c46f3a95d1edd3577479a",
            "f04f887f98de4cc4bdc79333d79ddda8",
            "006934b5fe6f4f669046cae8a646a943",
            "21fdbec13ca7477c9e6f67c6d65c951d",
            "d597bde54bbf4c74a78b61908df1a196",
            "fdfb6b0374c5415c96a986aa9d75f10f",
            "ed48ba6c117d4cdd8aad8dd52af5a0ab"
          ]
        },
        "outputId": "a66bd748-2b44-4f66-e62e-53d678e4ed3c"
      },
      "source": [
        "criterion = nn.CrossEntropyLoss()\n",
        "optimizer = optim.SGD(net.parameters(), lr=1e-7,  momentum = 0.9)#weight_decay=1e-2)\n",
        "lr_finder = LRFinder(net, optimizer, criterion, device)\n",
        "lr_finder.range_test(trainloader, end_lr=100, num_iter=100)#, step_mode=\"exp\")\n",
        "lr_finder.plot()\n",
        "lr_finder.reset()"
      ],
      "execution_count": 18,
      "outputs": [
        {
          "output_type": "display_data",
          "data": {
            "application/vnd.jupyter.widget-view+json": {
              "model_id": "097c5d1963344f65abd2d83bf6a03b82",
              "version_minor": 0,
              "version_major": 2
            },
            "text/plain": [
              "HBox(children=(FloatProgress(value=0.0), HTML(value='')))"
            ]
          },
          "metadata": {
            "tags": []
          }
        },
        {
          "output_type": "stream",
          "text": [
            "Stopping early, the loss has diverged\n",
            "Learning rate search finished. See the graph with {finder_name}.plot()\n",
            "\n"
          ],
          "name": "stdout"
        },
        {
          "output_type": "display_data",
          "data": {
            "image/png": "[encoded data removed]",
            "text/plain": [
              "<Figure size 432x288 with 1 Axes>"
            ]
          },
          "metadata": {
            "tags": [],
            "needs_background": "light"
          }
        }
      ]
    },
    {
      "cell_type": "code",
      "metadata": {
        "id": "JFPFuYawqTq-",
        "colab_type": "code",
        "colab": {}
      },
      "source": [
        "optimizer = optim.SGD(net.parameters(), lr=0.01, momentum=0.9)#, weight_decay=1e-2)\n",
        "scheduler = optim.lr_scheduler.ReduceLROnPlateau(optimizer, 'min')\n"
      ],
      "execution_count": 19,
      "outputs": []
    },
    {
      "cell_type": "code",
      "metadata": {
        "colab_type": "code",
        "id": "21mfya3ReT0X",
        "colab": {
          "base_uri": "https://localhost:8080/",
          "height": 1000
        },
        "outputId": "3f7bf0a9-e10e-4033-a7bb-513629b3249b"
      },
      "source": [
        "from tqdm import tqdm\n",
        "import train_new\n",
        "import test\n",
        "\n",
        "tr_acc = []\n",
        "tr_loss = []\n",
        "\n",
        "te_acc = []\n",
        "te_loss = []\n",
        "\n",
        "pbar = tqdm(trainloader)\n",
        "\n",
        "for epoch in range(50):\n",
        "\n",
        "  train_accuracy, train_loss = train_new.cifar10train(net, device, trainloader, optimizer, criterion, pbar)\n",
        "  tr_acc.append(train_accuracy)\n",
        "  tr_loss.append(train_loss)\n",
        "\n",
        "  test_accuracy, test_loss = test.cifar10test(net, device, testloader, criterion)\n",
        "  te_acc.append(test_accuracy)\n",
        "  te_loss.append(test_loss)\n",
        "  scheduler.step(test_loss)\n",
        "\n",
        "  print('Epoch {} completed'.format(epoch+1))\n",
        "  \n",
        "\n"
      ],
      "execution_count": 20,
      "outputs": [
        {
          "output_type": "stream",
          "text": [
            "loss=1.7437310218811035 batch_id=1562 Accuracy = 38.34:   0%|          | 0/1563 [00:58<?, ?it/s]"
          ],
          "name": "stderr"
        },
        {
          "output_type": "stream",
          "text": [
            "\n",
            "Train set: Average loss: 0.0532, Accuracy: 19171/50000 (38.34%)\n",
            "Test set: Average loss:  0.040185374116897585  Accurcy:  54.12\n",
            "Epoch 1 completed\n"
          ],
          "name": "stdout"
        },
        {
          "output_type": "stream",
          "text": [
            "loss=1.3943729400634766 batch_id=1562 Accuracy = 55.52:   0%|          | 0/1563 [02:01<?, ?it/s]"
          ],
          "name": "stderr"
        },
        {
          "output_type": "stream",
          "text": [
            "\n",
            "Train set: Average loss: 0.0391, Accuracy: 27762/50000 (55.52%)\n",
            "Test set: Average loss:  0.030090298843383788  Accurcy:  66.78\n",
            "Epoch 2 completed\n"
          ],
          "name": "stdout"
        },
        {
          "output_type": "stream",
          "text": [
            "loss=1.1020338535308838 batch_id=1562 Accuracy = 63.26:   0%|          | 0/1563 [03:04<?, ?it/s]"
          ],
          "name": "stderr"
        },
        {
          "output_type": "stream",
          "text": [
            "\n",
            "Train set: Average loss: 0.0326, Accuracy: 31629/50000 (63.26%)\n",
            "Test set: Average loss:  0.02514481702744961  Accurcy:  71.95\n",
            "Epoch 3 completed\n"
          ],
          "name": "stdout"
        },
        {
          "output_type": "stream",
          "text": [
            "loss=0.6049574613571167 batch_id=1562 Accuracy = 68.14:   0%|          | 0/1563 [04:07<?, ?it/s]"
          ],
          "name": "stderr"
        },
        {
          "output_type": "stream",
          "text": [
            "\n",
            "Train set: Average loss: 0.0287, Accuracy: 34068/50000 (68.14%)\n",
            "Test set: Average loss:  0.02104580971300602  Accurcy:  76.71\n",
            "Epoch 4 completed\n"
          ],
          "name": "stdout"
        },
        {
          "output_type": "stream",
          "text": [
            "loss=0.4556567370891571 batch_id=1562 Accuracy = 71.06:   0%|          | 0/1563 [05:09<?, ?it/s]"
          ],
          "name": "stderr"
        },
        {
          "output_type": "stream",
          "text": [
            "\n",
            "Train set: Average loss: 0.0260, Accuracy: 35532/50000 (71.06%)\n",
            "Test set: Average loss:  0.01808812892138958  Accurcy:  80.1\n",
            "Epoch 5 completed\n"
          ],
          "name": "stdout"
        },
        {
          "output_type": "stream",
          "text": [
            "loss=0.5614175200462341 batch_id=1562 Accuracy = 72.99:   0%|          | 0/1563 [06:12<?, ?it/s]"
          ],
          "name": "stderr"
        },
        {
          "output_type": "stream",
          "text": [
            "\n",
            "Train set: Average loss: 0.0242, Accuracy: 36493/50000 (72.99%)\n",
            "Test set: Average loss:  0.019335385963320732  Accurcy:  79.42\n",
            "Epoch 6 completed\n"
          ],
          "name": "stdout"
        },
        {
          "output_type": "stream",
          "text": [
            "loss=0.967806339263916 batch_id=1562 Accuracy = 75.02:   0%|          | 0/1563 [07:15<?, ?it/s] "
          ],
          "name": "stderr"
        },
        {
          "output_type": "stream",
          "text": [
            "\n",
            "Train set: Average loss: 0.0225, Accuracy: 37510/50000 (75.02%)\n",
            "Test set: Average loss:  0.016368513695895672  Accurcy:  82.46\n",
            "Epoch 7 completed\n"
          ],
          "name": "stdout"
        },
        {
          "output_type": "stream",
          "text": [
            "loss=1.0063574314117432 batch_id=1562 Accuracy = 76.46:   0%|          | 0/1563 [08:17<?, ?it/s]"
          ],
          "name": "stderr"
        },
        {
          "output_type": "stream",
          "text": [
            "\n",
            "Train set: Average loss: 0.0213, Accuracy: 38229/50000 (76.46%)\n",
            "Test set: Average loss:  0.01632515689879656  Accurcy:  82.43\n",
            "Epoch 8 completed\n"
          ],
          "name": "stdout"
        },
        {
          "output_type": "stream",
          "text": [
            "loss=0.6082170605659485 batch_id=1562 Accuracy = 78.01:   0%|          | 0/1563 [09:20<?, ?it/s]"
          ],
          "name": "stderr"
        },
        {
          "output_type": "stream",
          "text": [
            "\n",
            "Train set: Average loss: 0.0198, Accuracy: 39006/50000 (78.01%)\n",
            "Test set: Average loss:  0.01435845431610942  Accurcy:  84.35\n",
            "Epoch 9 completed\n"
          ],
          "name": "stdout"
        },
        {
          "output_type": "stream",
          "text": [
            "loss=1.0028597116470337 batch_id=1562 Accuracy = 78.99:   0%|          | 0/1563 [10:22<?, ?it/s] "
          ],
          "name": "stderr"
        },
        {
          "output_type": "stream",
          "text": [
            "\n",
            "Train set: Average loss: 0.0189, Accuracy: 39493/50000 (78.99%)\n",
            "Test set: Average loss:  0.014496932821720838  Accurcy:  84.33\n",
            "Epoch 10 completed\n"
          ],
          "name": "stdout"
        },
        {
          "output_type": "stream",
          "text": [
            "loss=1.1180126667022705 batch_id=1562 Accuracy = 79.84:   0%|          | 0/1563 [11:24<?, ?it/s]"
          ],
          "name": "stderr"
        },
        {
          "output_type": "stream",
          "text": [
            "\n",
            "Train set: Average loss: 0.0181, Accuracy: 39920/50000 (79.84%)\n",
            "Test set: Average loss:  0.014138831922411919  Accurcy:  84.64\n",
            "Epoch 11 completed\n"
          ],
          "name": "stdout"
        },
        {
          "output_type": "stream",
          "text": [
            "loss=0.5451264381408691 batch_id=1562 Accuracy = 80.93:   0%|          | 0/1563 [12:26<?, ?it/s]"
          ],
          "name": "stderr"
        },
        {
          "output_type": "stream",
          "text": [
            "\n",
            "Train set: Average loss: 0.0171, Accuracy: 40466/50000 (80.93%)\n",
            "Test set: Average loss:  0.01322210052460432  Accurcy:  85.9\n",
            "Epoch 12 completed\n"
          ],
          "name": "stdout"
        },
        {
          "output_type": "stream",
          "text": [
            "loss=0.5716294050216675 batch_id=1562 Accuracy = 81.77:   0%|          | 0/1563 [13:29<?, ?it/s] "
          ],
          "name": "stderr"
        },
        {
          "output_type": "stream",
          "text": [
            "\n",
            "Train set: Average loss: 0.0164, Accuracy: 40885/50000 (81.77%)\n",
            "Test set: Average loss:  0.01196823068857193  Accurcy:  87.1\n",
            "Epoch 13 completed\n"
          ],
          "name": "stdout"
        },
        {
          "output_type": "stream",
          "text": [
            "loss=0.44402310252189636 batch_id=1562 Accuracy = 82.67:   0%|          | 0/1563 [14:31<?, ?it/s]"
          ],
          "name": "stderr"
        },
        {
          "output_type": "stream",
          "text": [
            "\n",
            "Train set: Average loss: 0.0157, Accuracy: 41335/50000 (82.67%)\n",
            "Test set: Average loss:  0.012060074544698  Accurcy:  87.49\n",
            "Epoch 14 completed\n"
          ],
          "name": "stdout"
        },
        {
          "output_type": "stream",
          "text": [
            "loss=1.0684388875961304 batch_id=1562 Accuracy = 83.32:   0%|          | 0/1563 [15:32<?, ?it/s]"
          ],
          "name": "stderr"
        },
        {
          "output_type": "stream",
          "text": [
            "\n",
            "Train set: Average loss: 0.0151, Accuracy: 41658/50000 (83.32%)\n",
            "Test set: Average loss:  0.012029138917475939  Accurcy:  87.48\n",
            "Epoch 15 completed\n"
          ],
          "name": "stdout"
        },
        {
          "output_type": "stream",
          "text": [
            "loss=0.5266009569168091 batch_id=1562 Accuracy = 83.85:   0%|          | 0/1563 [16:34<?, ?it/s]"
          ],
          "name": "stderr"
        },
        {
          "output_type": "stream",
          "text": [
            "\n",
            "Train set: Average loss: 0.0144, Accuracy: 41927/50000 (83.85%)\n",
            "Test set: Average loss:  0.011840178687870502  Accurcy:  87.75\n",
            "Epoch 16 completed\n"
          ],
          "name": "stdout"
        },
        {
          "output_type": "stream",
          "text": [
            "loss=0.25885000824928284 batch_id=1562 Accuracy = 84.46:   0%|          | 0/1563 [17:36<?, ?it/s]"
          ],
          "name": "stderr"
        },
        {
          "output_type": "stream",
          "text": [
            "\n",
            "Train set: Average loss: 0.0141, Accuracy: 42228/50000 (84.46%)\n",
            "Test set: Average loss:  0.012052660892158746  Accurcy:  87.38\n",
            "Epoch 17 completed\n"
          ],
          "name": "stdout"
        },
        {
          "output_type": "stream",
          "text": [
            "loss=0.5746159553527832 batch_id=1562 Accuracy = 84.95:   0%|          | 0/1563 [18:38<?, ?it/s]"
          ],
          "name": "stderr"
        },
        {
          "output_type": "stream",
          "text": [
            "\n",
            "Train set: Average loss: 0.0135, Accuracy: 42475/50000 (84.95%)\n",
            "Test set: Average loss:  0.010596929614245892  Accurcy:  88.49\n",
            "Epoch 18 completed\n"
          ],
          "name": "stdout"
        },
        {
          "output_type": "stream",
          "text": [
            "loss=0.5537490844726562 batch_id=1562 Accuracy = 85.55:   0%|          | 0/1563 [19:39<?, ?it/s]"
          ],
          "name": "stderr"
        },
        {
          "output_type": "stream",
          "text": [
            "\n",
            "Train set: Average loss: 0.0130, Accuracy: 42777/50000 (85.55%)\n",
            "Test set: Average loss:  0.010979118256270886  Accurcy:  88.1\n",
            "Epoch 19 completed\n"
          ],
          "name": "stdout"
        },
        {
          "output_type": "stream",
          "text": [
            "loss=0.39931702613830566 batch_id=1562 Accuracy = 85.87:   0%|          | 0/1563 [20:40<?, ?it/s]"
          ],
          "name": "stderr"
        },
        {
          "output_type": "stream",
          "text": [
            "\n",
            "Train set: Average loss: 0.0127, Accuracy: 42936/50000 (85.87%)\n",
            "Test set: Average loss:  0.010424062565714121  Accurcy:  89.17\n",
            "Epoch 20 completed\n"
          ],
          "name": "stdout"
        },
        {
          "output_type": "stream",
          "text": [
            "loss=0.4087301194667816 batch_id=1562 Accuracy = 86.41:   0%|          | 0/1563 [21:41<?, ?it/s] "
          ],
          "name": "stderr"
        },
        {
          "output_type": "stream",
          "text": [
            "\n",
            "Train set: Average loss: 0.0122, Accuracy: 43207/50000 (86.41%)\n",
            "Test set: Average loss:  0.009992511545121669  Accurcy:  89.6\n",
            "Epoch 21 completed\n"
          ],
          "name": "stdout"
        },
        {
          "output_type": "stream",
          "text": [
            "loss=0.4860879182815552 batch_id=1562 Accuracy = 86.86:   0%|          | 0/1563 [22:43<?, ?it/s]"
          ],
          "name": "stderr"
        },
        {
          "output_type": "stream",
          "text": [
            "\n",
            "Train set: Average loss: 0.0118, Accuracy: 43432/50000 (86.86%)\n",
            "Test set: Average loss:  0.01067800674661994  Accurcy:  89.43\n",
            "Epoch 22 completed\n"
          ],
          "name": "stdout"
        },
        {
          "output_type": "stream",
          "text": [
            "loss=0.21615664660930634 batch_id=1562 Accuracy = 87.07:   0%|          | 0/1563 [23:44<?, ?it/s]"
          ],
          "name": "stderr"
        },
        {
          "output_type": "stream",
          "text": [
            "\n",
            "Train set: Average loss: 0.0115, Accuracy: 43534/50000 (87.07%)\n",
            "Test set: Average loss:  0.01051414838656783  Accurcy:  89.26\n",
            "Epoch 23 completed\n"
          ],
          "name": "stdout"
        },
        {
          "output_type": "stream",
          "text": [
            "loss=0.7413777112960815 batch_id=1562 Accuracy = 87.61:   0%|          | 0/1563 [24:44<?, ?it/s]"
          ],
          "name": "stderr"
        },
        {
          "output_type": "stream",
          "text": [
            "\n",
            "Train set: Average loss: 0.0110, Accuracy: 43804/50000 (87.61%)\n",
            "Test set: Average loss:  0.009495787906646729  Accurcy:  90.2\n",
            "Epoch 24 completed\n"
          ],
          "name": "stdout"
        },
        {
          "output_type": "stream",
          "text": [
            "loss=0.1421063244342804 batch_id=1562 Accuracy = 87.92:   0%|          | 0/1563 [25:45<?, ?it/s] "
          ],
          "name": "stderr"
        },
        {
          "output_type": "stream",
          "text": [
            "\n",
            "Train set: Average loss: 0.0108, Accuracy: 43962/50000 (87.92%)\n",
            "Test set: Average loss:  0.009708747931569815  Accurcy:  89.71\n",
            "Epoch 25 completed\n"
          ],
          "name": "stdout"
        },
        {
          "output_type": "stream",
          "text": [
            "loss=0.3733668327331543 batch_id=1562 Accuracy = 88.27:   0%|          | 0/1563 [26:46<?, ?it/s] "
          ],
          "name": "stderr"
        },
        {
          "output_type": "stream",
          "text": [
            "\n",
            "Train set: Average loss: 0.0105, Accuracy: 44137/50000 (88.27%)\n",
            "Test set: Average loss:  0.009437040069699287  Accurcy:  90.45\n",
            "Epoch 26 completed\n"
          ],
          "name": "stdout"
        },
        {
          "output_type": "stream",
          "text": [
            "loss=0.4211946129798889 batch_id=1562 Accuracy = 88.72:   0%|          | 0/1563 [27:48<?, ?it/s] "
          ],
          "name": "stderr"
        },
        {
          "output_type": "stream",
          "text": [
            "\n",
            "Train set: Average loss: 0.0102, Accuracy: 44358/50000 (88.72%)\n",
            "Test set: Average loss:  0.009444996605068446  Accurcy:  90.27\n",
            "Epoch 27 completed\n"
          ],
          "name": "stdout"
        },
        {
          "output_type": "stream",
          "text": [
            "loss=0.47195297479629517 batch_id=1562 Accuracy = 88.91:   0%|          | 0/1563 [28:50<?, ?it/s]"
          ],
          "name": "stderr"
        },
        {
          "output_type": "stream",
          "text": [
            "\n",
            "Train set: Average loss: 0.0098, Accuracy: 44455/50000 (88.91%)\n",
            "Test set: Average loss:  0.009582546251267195  Accurcy:  90.21\n",
            "Epoch 28 completed\n"
          ],
          "name": "stdout"
        },
        {
          "output_type": "stream",
          "text": [
            "loss=0.47522860765457153 batch_id=1562 Accuracy = 89.48:   0%|          | 0/1563 [29:52<?, ?it/s]"
          ],
          "name": "stderr"
        },
        {
          "output_type": "stream",
          "text": [
            "\n",
            "Train set: Average loss: 0.0095, Accuracy: 44741/50000 (89.48%)\n",
            "Test set: Average loss:  0.009287696228921413  Accurcy:  90.29\n",
            "Epoch 29 completed\n"
          ],
          "name": "stdout"
        },
        {
          "output_type": "stream",
          "text": [
            "loss=0.19062970578670502 batch_id=1562 Accuracy = 89.59:   0%|          | 0/1563 [30:54<?, ?it/s]"
          ],
          "name": "stderr"
        },
        {
          "output_type": "stream",
          "text": [
            "\n",
            "Train set: Average loss: 0.0093, Accuracy: 44795/50000 (89.59%)\n",
            "Test set: Average loss:  0.008495222426205873  Accurcy:  91.43\n",
            "Epoch 30 completed\n"
          ],
          "name": "stdout"
        },
        {
          "output_type": "stream",
          "text": [
            "loss=0.6316561102867126 batch_id=1562 Accuracy = 89.81:   0%|          | 0/1563 [31:56<?, ?it/s] "
          ],
          "name": "stderr"
        },
        {
          "output_type": "stream",
          "text": [
            "\n",
            "Train set: Average loss: 0.0092, Accuracy: 44907/50000 (89.81%)\n",
            "Test set: Average loss:  0.009380044193565846  Accurcy:  90.88\n",
            "Epoch 31 completed\n"
          ],
          "name": "stdout"
        },
        {
          "output_type": "stream",
          "text": [
            "loss=0.22969172894954681 batch_id=1562 Accuracy = 90.30:   0%|          | 0/1563 [32:58<?, ?it/s]"
          ],
          "name": "stderr"
        },
        {
          "output_type": "stream",
          "text": [
            "\n",
            "Train set: Average loss: 0.0087, Accuracy: 45148/50000 (90.30%)\n",
            "Test set: Average loss:  0.009527883514761925  Accurcy:  90.41\n",
            "Epoch 32 completed\n"
          ],
          "name": "stdout"
        },
        {
          "output_type": "stream",
          "text": [
            "loss=0.11173111200332642 batch_id=1562 Accuracy = 90.42:   0%|          | 0/1563 [34:01<?, ?it/s]"
          ],
          "name": "stderr"
        },
        {
          "output_type": "stream",
          "text": [
            "\n",
            "Train set: Average loss: 0.0086, Accuracy: 45211/50000 (90.42%)\n",
            "Test set: Average loss:  0.009513416378200055  Accurcy:  90.66\n",
            "Epoch 33 completed\n"
          ],
          "name": "stdout"
        },
        {
          "output_type": "stream",
          "text": [
            "loss=0.24077323079109192 batch_id=1562 Accuracy = 90.47:   0%|          | 0/1563 [35:03<?, ?it/s]"
          ],
          "name": "stderr"
        },
        {
          "output_type": "stream",
          "text": [
            "\n",
            "Train set: Average loss: 0.0085, Accuracy: 45234/50000 (90.47%)\n",
            "Test set: Average loss:  0.008653512898087502  Accurcy:  91.37\n",
            "Epoch 34 completed\n"
          ],
          "name": "stdout"
        },
        {
          "output_type": "stream",
          "text": [
            "loss=0.16647189855575562 batch_id=1562 Accuracy = 90.72:   0%|          | 0/1563 [36:05<?, ?it/s]"
          ],
          "name": "stderr"
        },
        {
          "output_type": "stream",
          "text": [
            "\n",
            "Train set: Average loss: 0.0082, Accuracy: 45360/50000 (90.72%)\n",
            "Test set: Average loss:  0.009412786342948676  Accurcy:  90.66\n",
            "Epoch 35 completed\n"
          ],
          "name": "stdout"
        },
        {
          "output_type": "stream",
          "text": [
            "loss=0.2972392141819 batch_id=1562 Accuracy = 91.01:   0%|          | 0/1563 [37:07<?, ?it/s]    "
          ],
          "name": "stderr"
        },
        {
          "output_type": "stream",
          "text": [
            "\n",
            "Train set: Average loss: 0.0081, Accuracy: 45504/50000 (91.01%)\n",
            "Test set: Average loss:  0.009021557606756688  Accurcy:  91.25\n",
            "Epoch 36 completed\n"
          ],
          "name": "stdout"
        },
        {
          "output_type": "stream",
          "text": [
            "loss=0.04663529992103577 batch_id=1562 Accuracy = 91.31:   0%|          | 0/1563 [38:08<?, ?it/s]"
          ],
          "name": "stderr"
        },
        {
          "output_type": "stream",
          "text": [
            "\n",
            "Train set: Average loss: 0.0078, Accuracy: 45653/50000 (91.31%)\n",
            "Test set: Average loss:  0.009172941152006387  Accurcy:  91.14\n",
            "Epoch 37 completed\n"
          ],
          "name": "stdout"
        },
        {
          "output_type": "stream",
          "text": [
            "loss=0.12349319458007812 batch_id=1562 Accuracy = 91.63:   0%|          | 0/1563 [39:10<?, ?it/s]"
          ],
          "name": "stderr"
        },
        {
          "output_type": "stream",
          "text": [
            "\n",
            "Train set: Average loss: 0.0075, Accuracy: 45815/50000 (91.63%)\n",
            "Test set: Average loss:  0.008742359033226966  Accurcy:  91.34\n",
            "Epoch 38 completed\n"
          ],
          "name": "stdout"
        },
        {
          "output_type": "stream",
          "text": [
            "loss=0.6659188866615295 batch_id=1562 Accuracy = 91.71:   0%|          | 0/1563 [40:11<?, ?it/s] "
          ],
          "name": "stderr"
        },
        {
          "output_type": "stream",
          "text": [
            "\n",
            "Train set: Average loss: 0.0074, Accuracy: 45855/50000 (91.71%)\n",
            "Test set: Average loss:  0.009364772169291973  Accurcy:  91.11\n",
            "Epoch 39 completed\n"
          ],
          "name": "stdout"
        },
        {
          "output_type": "stream",
          "text": [
            "loss=0.17265933752059937 batch_id=1562 Accuracy = 91.68:   0%|          | 0/1563 [41:13<?, ?it/s]"
          ],
          "name": "stderr"
        },
        {
          "output_type": "stream",
          "text": [
            "\n",
            "Train set: Average loss: 0.0075, Accuracy: 45841/50000 (91.68%)\n",
            "Test set: Average loss:  0.00817582411840558  Accurcy:  91.75\n",
            "Epoch 40 completed\n"
          ],
          "name": "stdout"
        },
        {
          "output_type": "stream",
          "text": [
            "loss=0.38656899333000183 batch_id=1562 Accuracy = 91.86:   0%|          | 0/1563 [42:14<?, ?it/s]"
          ],
          "name": "stderr"
        },
        {
          "output_type": "stream",
          "text": [
            "\n",
            "Train set: Average loss: 0.0073, Accuracy: 45930/50000 (91.86%)\n",
            "Test set: Average loss:  0.00886140118688345  Accurcy:  91.43\n",
            "Epoch 41 completed\n"
          ],
          "name": "stdout"
        },
        {
          "output_type": "stream",
          "text": [
            "loss=0.09796153008937836 batch_id=1562 Accuracy = 92.23:   0%|          | 0/1563 [43:15<?, ?it/s]"
          ],
          "name": "stderr"
        },
        {
          "output_type": "stream",
          "text": [
            "\n",
            "Train set: Average loss: 0.0070, Accuracy: 46116/50000 (92.23%)\n",
            "Test set: Average loss:  0.008795736147463321  Accurcy:  91.14\n",
            "Epoch 42 completed\n"
          ],
          "name": "stdout"
        },
        {
          "output_type": "stream",
          "text": [
            "loss=0.3406374156475067 batch_id=1562 Accuracy = 92.38:   0%|          | 0/1563 [44:17<?, ?it/s]"
          ],
          "name": "stderr"
        },
        {
          "output_type": "stream",
          "text": [
            "\n",
            "Train set: Average loss: 0.0069, Accuracy: 46190/50000 (92.38%)\n",
            "Test set: Average loss:  0.009057358368486167  Accurcy:  91.58\n",
            "Epoch 43 completed\n"
          ],
          "name": "stdout"
        },
        {
          "output_type": "stream",
          "text": [
            "loss=0.31211769580841064 batch_id=1562 Accuracy = 92.55:   0%|          | 0/1563 [45:18<?, ?it/s]"
          ],
          "name": "stderr"
        },
        {
          "output_type": "stream",
          "text": [
            "\n",
            "Train set: Average loss: 0.0067, Accuracy: 46273/50000 (92.55%)\n",
            "Test set: Average loss:  0.009065028119832277  Accurcy:  91.8\n",
            "Epoch 44 completed\n"
          ],
          "name": "stdout"
        },
        {
          "output_type": "stream",
          "text": [
            "loss=0.13202330470085144 batch_id=1562 Accuracy = 92.54:   0%|          | 0/1563 [46:20<?, ?it/s]"
          ],
          "name": "stderr"
        },
        {
          "output_type": "stream",
          "text": [
            "\n",
            "Train set: Average loss: 0.0066, Accuracy: 46268/50000 (92.54%)\n",
            "Test set: Average loss:  0.008344524535536767  Accurcy:  92.22\n",
            "Epoch 45 completed\n"
          ],
          "name": "stdout"
        },
        {
          "output_type": "stream",
          "text": [
            "loss=0.0575544536113739 batch_id=1562 Accuracy = 92.80:   0%|          | 0/1563 [47:22<?, ?it/s] "
          ],
          "name": "stderr"
        },
        {
          "output_type": "stream",
          "text": [
            "\n",
            "Train set: Average loss: 0.0064, Accuracy: 46401/50000 (92.80%)\n",
            "Test set: Average loss:  0.008989716743677854  Accurcy:  91.88\n",
            "Epoch 46 completed\n"
          ],
          "name": "stdout"
        },
        {
          "output_type": "stream",
          "text": [
            "loss=0.13868892192840576 batch_id=1562 Accuracy = 93.07:   0%|          | 0/1563 [48:23<?, ?it/s]"
          ],
          "name": "stderr"
        },
        {
          "output_type": "stream",
          "text": [
            "\n",
            "Train set: Average loss: 0.0063, Accuracy: 46534/50000 (93.07%)\n",
            "Test set: Average loss:  0.008524524334818125  Accurcy:  92.08\n",
            "Epoch 47 completed\n"
          ],
          "name": "stdout"
        },
        {
          "output_type": "stream",
          "text": [
            "loss=0.05729645490646362 batch_id=1562 Accuracy = 92.98:   0%|          | 0/1563 [49:24<?, ?it/s]"
          ],
          "name": "stderr"
        },
        {
          "output_type": "stream",
          "text": [
            "\n",
            "Train set: Average loss: 0.0063, Accuracy: 46488/50000 (92.98%)\n",
            "Test set: Average loss:  0.008669193363189697  Accurcy:  91.89\n",
            "Epoch 48 completed\n"
          ],
          "name": "stdout"
        },
        {
          "output_type": "stream",
          "text": [
            "loss=0.046415358781814575 batch_id=1562 Accuracy = 93.06:   0%|          | 0/1563 [50:26<?, ?it/s]"
          ],
          "name": "stderr"
        },
        {
          "output_type": "stream",
          "text": [
            "\n",
            "Train set: Average loss: 0.0062, Accuracy: 46529/50000 (93.06%)\n",
            "Test set: Average loss:  0.008172953002154827  Accurcy:  92.26\n",
            "Epoch 49 completed\n"
          ],
          "name": "stdout"
        },
        {
          "output_type": "stream",
          "text": [
            "loss=0.043453067541122437 batch_id=1562 Accuracy = 93.49:   0%|          | 0/1563 [51:28<?, ?it/s]"
          ],
          "name": "stderr"
        },
        {
          "output_type": "stream",
          "text": [
            "\n",
            "Train set: Average loss: 0.0059, Accuracy: 46745/50000 (93.49%)\n",
            "Test set: Average loss:  0.008621850121021271  Accurcy:  92.1\n",
            "Epoch 50 completed\n"
          ],
          "name": "stdout"
        }
      ]
    },
    {
      "cell_type": "code",
      "metadata": {
        "id": "Isq7ABnKt96O",
        "colab_type": "code",
        "colab": {}
      },
      "source": [
        " #train_losses, train_accuracy"
      ],
      "execution_count": null,
      "outputs": []
    },
    {
      "cell_type": "code",
      "metadata": {
        "id": "rhdtAPxeqgTX",
        "colab_type": "code",
        "colab": {
          "base_uri": "https://localhost:8080/",
          "height": 283
        },
        "outputId": "e4a4aad1-1078-450e-a83e-aaf9dcb1b665"
      },
      "source": [
        "import matplotlib.pyplot as plt\n",
        "\n",
        "plt.plot(tr_loss)"
      ],
      "execution_count": 22,
      "outputs": [
        {
          "output_type": "execute_result",
          "data": {
            "text/plain": [
              "[<matplotlib.lines.Line2D at 0x7f15016552b0>]"
            ]
          },
          "metadata": {
            "tags": []
          },
          "execution_count": 22
        },
        {
          "output_type": "display_data",
          "data": {
            "image/png": "[encoded data removed]",
            "text/plain": [
              "<Figure size 432x288 with 1 Axes>"
            ]
          },
          "metadata": {
            "tags": [],
            "needs_background": "light"
          }
        }
      ]
    },
    {
      "cell_type": "code",
      "metadata": {
        "id": "b9SpT-U_uQzN",
        "colab_type": "code",
        "colab": {
          "base_uri": "https://localhost:8080/",
          "height": 283
        },
        "outputId": "a8edf7f1-2453-46e4-faed-0e736d37dcb7"
      },
      "source": [
        "plt.plot(tr_acc)"
      ],
      "execution_count": 23,
      "outputs": [
        {
          "output_type": "execute_result",
          "data": {
            "text/plain": [
              "[<matplotlib.lines.Line2D at 0x7f15015e3668>]"
            ]
          },
          "metadata": {
            "tags": []
          },
          "execution_count": 23
        },
        {
          "output_type": "display_data",
          "data": {
            "image/png": "[encoded data removed]",
            "text/plain": [
              "<Figure size 432x288 with 1 Axes>"
            ]
          },
          "metadata": {
            "tags": [],
            "needs_background": "light"
          }
        }
      ]
    },
    {
      "cell_type": "code",
      "metadata": {
        "id": "bH4JkxgquR6G",
        "colab_type": "code",
        "colab": {
          "base_uri": "https://localhost:8080/",
          "height": 265
        },
        "outputId": "5ff32ebc-2fa0-4cb5-eaab-f1d4b42e07d7"
      },
      "source": [
        "fig = plt.figure()\n",
        "\n",
        "ax1 = plt.subplot2grid((2,1), (0,0))\n",
        "ax2 = plt.subplot2grid((2,1), (1,0), sharex=ax1)\n",
        "\n",
        "\n",
        "ax1.plot(tr_acc, label=\"train_acc\")\n",
        "ax1.plot(te_acc, label=\"test_acc\")\n",
        "ax1.legend(loc=2)\n",
        "ax2.plot(tr_loss, label=\"train_loss\")\n",
        "ax2.plot(te_loss, label=\"test_loss\")\n",
        "ax2.legend(loc=2)\n",
        "plt.show()"
      ],
      "execution_count": 26,
      "outputs": [
        {
          "output_type": "display_data",
          "data": {
            "image/png": "[encoded data removed]",
            "text/plain": [
              "<Figure size 432x288 with 2 Axes>"
            ]
          },
          "metadata": {
            "tags": [],
            "needs_background": "light"
          }
        }
      ]
    },
    {
      "cell_type": "code",
      "metadata": {
        "colab_type": "code",
        "id": "K_aijyJHeT0e",
        "colab": {
          "base_uri": "https://localhost:8080/",
          "height": 156
        },
        "outputId": "6dc9cc73-6b0a-4b6b-9222-2ae76e10f013"
      },
      "source": [
        "dataiter = iter(testloader)\n",
        "images, labels = dataiter.next()\n",
        "#images = images.to(device)\n",
        "#labels = labels.to(device)\n",
        "\n",
        "# print images\n",
        "imshow(torchvision.utils.make_grid(images[:4]))\n",
        "print('GroundTruth: ', ' '.join('%5s' % classes[labels[j]] for j in range(4)))"
      ],
      "execution_count": 30,
      "outputs": [
        {
          "output_type": "display_data",
          "data": {
            "image/png": "[encoded data removed]",
            "text/plain": [
              "<Figure size 432x288 with 1 Axes>"
            ]
          },
          "metadata": {
            "tags": [],
            "needs_background": "light"
          }
        },
        {
          "output_type": "stream",
          "text": [
            "GroundTruth:   ship   dog  deer truck\n"
          ],
          "name": "stdout"
        }
      ]
    },
    {
      "cell_type": "code",
      "metadata": {
        "colab_type": "code",
        "id": "uiPgn3jMgtEa",
        "colab": {}
      },
      "source": [
        "images = images[:4].to(device)\n",
        "outputs = net(images)"
      ],
      "execution_count": 31,
      "outputs": []
    },
    {
      "cell_type": "code",
      "metadata": {
        "colab_type": "code",
        "id": "Xw7LHlDYgum4",
        "colab": {
          "base_uri": "https://localhost:8080/",
          "height": 35
        },
        "outputId": "3bc14ccb-e844-4f15-d804-01e1454099e0"
      },
      "source": [
        "_, predicted = torch.max(outputs, 1)\n",
        "\n",
        "print('Predicted: ', ' '.join('%5s' % classes[predicted[j]]\n",
        "                              for j in range(4)))"
      ],
      "execution_count": 32,
      "outputs": [
        {
          "output_type": "stream",
          "text": [
            "Predicted:   ship   dog  deer truck\n"
          ],
          "name": "stdout"
        }
      ]
    }
  ]
}